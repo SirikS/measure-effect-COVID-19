{
 "cells": [
  {
   "cell_type": "code",
   "execution_count": 74,
   "metadata": {},
   "outputs": [],
   "source": [
    "import pandas as pd\n",
    "import numpy as np\n",
    "import plotly.graph_objects as go"
   ]
  },
  {
   "cell_type": "code",
   "execution_count": 98,
   "metadata": {},
   "outputs": [],
   "source": [
    "lasso = pd.read_csv('LASSO coefficient rel new.csv', sep=';')\n",
    "lasso = lasso[lasso['Maatregelgroep']!='Intercept']\n",
    "rf = pd.read_csv('RF perm imp rel.csv', sep=';').drop(['timeshift', 'Rank'], axis=1)"
   ]
  },
  {
   "cell_type": "code",
   "execution_count": 99,
   "metadata": {},
   "outputs": [],
   "source": [
    "templ = lasso *-1\n",
    "templ = templ['median']-min(templ['median'])\n",
    "templ = templ/max(templ)\n",
    "lasso['norm'] = templ"
   ]
  },
  {
   "cell_type": "code",
   "execution_count": 100,
   "metadata": {},
   "outputs": [],
   "source": [
    "rf['norm'] = (rf['median']-min(rf['median']))/max(rf['median']-min(rf['median']))\n",
    "rf['Maatregelgroep'] = rf['Measure'].str.replace(' ', '_').str.replace('/', '_')"
   ]
  },
  {
   "cell_type": "code",
   "execution_count": 101,
   "metadata": {},
   "outputs": [
    {
     "data": {
      "text/html": [
       "<div>\n",
       "<style scoped>\n",
       "    .dataframe tbody tr th:only-of-type {\n",
       "        vertical-align: middle;\n",
       "    }\n",
       "\n",
       "    .dataframe tbody tr th {\n",
       "        vertical-align: top;\n",
       "    }\n",
       "\n",
       "    .dataframe thead th {\n",
       "        text-align: right;\n",
       "    }\n",
       "</style>\n",
       "<table border=\"1\" class=\"dataframe\">\n",
       "  <thead>\n",
       "    <tr style=\"text-align: right;\">\n",
       "      <th></th>\n",
       "      <th>Maatregelgroep</th>\n",
       "      <th>median_LASSO</th>\n",
       "      <th>low_LASSO</th>\n",
       "      <th>high_LASSO</th>\n",
       "      <th>norm_LASSO</th>\n",
       "      <th>median_RF</th>\n",
       "      <th>low_RF</th>\n",
       "      <th>high_RF</th>\n",
       "      <th>Measure</th>\n",
       "      <th>norm_RF</th>\n",
       "      <th>mean_norm</th>\n",
       "    </tr>\n",
       "  </thead>\n",
       "  <tbody>\n",
       "    <tr>\n",
       "      <th>0</th>\n",
       "      <td>MassGatherAll</td>\n",
       "      <td>-0.639575</td>\n",
       "      <td>-0.754778</td>\n",
       "      <td>-0.460861</td>\n",
       "      <td>1.000000</td>\n",
       "      <td>0.278115</td>\n",
       "      <td>0.066485</td>\n",
       "      <td>0.903793</td>\n",
       "      <td>MassGatherAll</td>\n",
       "      <td>0.868202</td>\n",
       "      <td>93</td>\n",
       "    </tr>\n",
       "    <tr>\n",
       "      <th>1</th>\n",
       "      <td>Workplace</td>\n",
       "      <td>-0.524242</td>\n",
       "      <td>-0.562500</td>\n",
       "      <td>-0.493870</td>\n",
       "      <td>0.889156</td>\n",
       "      <td>0.001809</td>\n",
       "      <td>-0.011078</td>\n",
       "      <td>0.020441</td>\n",
       "      <td>Workplace</td>\n",
       "      <td>0.006233</td>\n",
       "      <td>44</td>\n",
       "    </tr>\n",
       "    <tr>\n",
       "      <th>2</th>\n",
       "      <td>Restaurants_Cafes</td>\n",
       "      <td>-0.352473</td>\n",
       "      <td>-0.567795</td>\n",
       "      <td>-0.267442</td>\n",
       "      <td>0.724074</td>\n",
       "      <td>0.320363</td>\n",
       "      <td>0.069381</td>\n",
       "      <td>1.572198</td>\n",
       "      <td>Restaurants/Cafes</td>\n",
       "      <td>1.000000</td>\n",
       "      <td>86</td>\n",
       "    </tr>\n",
       "    <tr>\n",
       "      <th>3</th>\n",
       "      <td>Telework</td>\n",
       "      <td>-0.295775</td>\n",
       "      <td>-0.447292</td>\n",
       "      <td>-0.022073</td>\n",
       "      <td>0.669584</td>\n",
       "      <td>0.259556</td>\n",
       "      <td>0.065505</td>\n",
       "      <td>1.278198</td>\n",
       "      <td>Telework</td>\n",
       "      <td>0.810305</td>\n",
       "      <td>73</td>\n",
       "    </tr>\n",
       "    <tr>\n",
       "      <th>4</th>\n",
       "      <td>Masks</td>\n",
       "      <td>-0.265226</td>\n",
       "      <td>-0.292266</td>\n",
       "      <td>-0.247799</td>\n",
       "      <td>0.640224</td>\n",
       "      <td>0.020484</td>\n",
       "      <td>-0.013156</td>\n",
       "      <td>0.104098</td>\n",
       "      <td>Masks</td>\n",
       "      <td>0.064491</td>\n",
       "      <td>35</td>\n",
       "    </tr>\n",
       "    <tr>\n",
       "      <th>5</th>\n",
       "      <td>Transport</td>\n",
       "      <td>-0.200571</td>\n",
       "      <td>-0.252349</td>\n",
       "      <td>-0.144807</td>\n",
       "      <td>0.578086</td>\n",
       "      <td>0.001721</td>\n",
       "      <td>-0.012224</td>\n",
       "      <td>0.036320</td>\n",
       "      <td>Transport</td>\n",
       "      <td>0.005958</td>\n",
       "      <td>29</td>\n",
       "    </tr>\n",
       "    <tr>\n",
       "      <th>6</th>\n",
       "      <td>Prikken</td>\n",
       "      <td>-0.159254</td>\n",
       "      <td>-0.188492</td>\n",
       "      <td>-0.143673</td>\n",
       "      <td>0.538378</td>\n",
       "      <td>0.037495</td>\n",
       "      <td>0.007749</td>\n",
       "      <td>0.131850</td>\n",
       "      <td>Prikken</td>\n",
       "      <td>0.117558</td>\n",
       "      <td>32</td>\n",
       "    </tr>\n",
       "    <tr>\n",
       "      <th>7</th>\n",
       "      <td>Religion</td>\n",
       "      <td>-0.145585</td>\n",
       "      <td>-0.183883</td>\n",
       "      <td>-0.018453</td>\n",
       "      <td>0.525241</td>\n",
       "      <td>0.000921</td>\n",
       "      <td>-0.004974</td>\n",
       "      <td>0.010384</td>\n",
       "      <td>Religion</td>\n",
       "      <td>0.003460</td>\n",
       "      <td>26</td>\n",
       "    </tr>\n",
       "    <tr>\n",
       "      <th>8</th>\n",
       "      <td>Daycare</td>\n",
       "      <td>-0.124421</td>\n",
       "      <td>-0.129945</td>\n",
       "      <td>-0.103607</td>\n",
       "      <td>0.504900</td>\n",
       "      <td>0.032621</td>\n",
       "      <td>0.008838</td>\n",
       "      <td>0.113599</td>\n",
       "      <td>Daycare</td>\n",
       "      <td>0.102355</td>\n",
       "      <td>30</td>\n",
       "    </tr>\n",
       "    <tr>\n",
       "      <th>9</th>\n",
       "      <td>Shops</td>\n",
       "      <td>-0.119435</td>\n",
       "      <td>-0.150883</td>\n",
       "      <td>-0.006404</td>\n",
       "      <td>0.500108</td>\n",
       "      <td>0.000847</td>\n",
       "      <td>-0.005145</td>\n",
       "      <td>0.008217</td>\n",
       "      <td>Shops</td>\n",
       "      <td>0.003231</td>\n",
       "      <td>25</td>\n",
       "    </tr>\n",
       "    <tr>\n",
       "      <th>10</th>\n",
       "      <td>Higher_Education</td>\n",
       "      <td>-0.068411</td>\n",
       "      <td>-0.081406</td>\n",
       "      <td>-0.039690</td>\n",
       "      <td>0.451071</td>\n",
       "      <td>0.005802</td>\n",
       "      <td>-0.009173</td>\n",
       "      <td>0.034323</td>\n",
       "      <td>Higher Education</td>\n",
       "      <td>0.018688</td>\n",
       "      <td>23</td>\n",
       "    </tr>\n",
       "    <tr>\n",
       "      <th>11</th>\n",
       "      <td>Primary_Education</td>\n",
       "      <td>-0.020610</td>\n",
       "      <td>-0.051202</td>\n",
       "      <td>-0.014367</td>\n",
       "      <td>0.405130</td>\n",
       "      <td>0.002244</td>\n",
       "      <td>-0.010925</td>\n",
       "      <td>0.020552</td>\n",
       "      <td>Primary Education</td>\n",
       "      <td>0.007589</td>\n",
       "      <td>20</td>\n",
       "    </tr>\n",
       "    <tr>\n",
       "      <th>12</th>\n",
       "      <td>MassGather50</td>\n",
       "      <td>0.016261</td>\n",
       "      <td>-0.005685</td>\n",
       "      <td>0.085494</td>\n",
       "      <td>0.369695</td>\n",
       "      <td>0.002697</td>\n",
       "      <td>-0.011152</td>\n",
       "      <td>0.021486</td>\n",
       "      <td>MassGather50</td>\n",
       "      <td>0.009001</td>\n",
       "      <td>18</td>\n",
       "    </tr>\n",
       "    <tr>\n",
       "      <th>13</th>\n",
       "      <td>Sports</td>\n",
       "      <td>0.019665</td>\n",
       "      <td>-0.001865</td>\n",
       "      <td>0.039981</td>\n",
       "      <td>0.366423</td>\n",
       "      <td>0.110081</td>\n",
       "      <td>0.040048</td>\n",
       "      <td>0.425484</td>\n",
       "      <td>Sports</td>\n",
       "      <td>0.343998</td>\n",
       "      <td>35</td>\n",
       "    </tr>\n",
       "    <tr>\n",
       "      <th>14</th>\n",
       "      <td>Secondary_Education</td>\n",
       "      <td>0.075934</td>\n",
       "      <td>-0.013191</td>\n",
       "      <td>0.104848</td>\n",
       "      <td>0.312344</td>\n",
       "      <td>0.002006</td>\n",
       "      <td>-0.017790</td>\n",
       "      <td>0.019559</td>\n",
       "      <td>Secondary Education</td>\n",
       "      <td>0.006845</td>\n",
       "      <td>15</td>\n",
       "    </tr>\n",
       "    <tr>\n",
       "      <th>15</th>\n",
       "      <td>Stayhome</td>\n",
       "      <td>0.094023</td>\n",
       "      <td>0.078843</td>\n",
       "      <td>0.111254</td>\n",
       "      <td>0.294960</td>\n",
       "      <td>0.006711</td>\n",
       "      <td>-0.005816</td>\n",
       "      <td>0.035007</td>\n",
       "      <td>Stayhome</td>\n",
       "      <td>0.021525</td>\n",
       "      <td>15</td>\n",
       "    </tr>\n",
       "    <tr>\n",
       "      <th>16</th>\n",
       "      <td>Gatherings</td>\n",
       "      <td>0.169369</td>\n",
       "      <td>0.035045</td>\n",
       "      <td>0.258919</td>\n",
       "      <td>0.222547</td>\n",
       "      <td>0.001062</td>\n",
       "      <td>-0.016655</td>\n",
       "      <td>0.012444</td>\n",
       "      <td>Gatherings</td>\n",
       "      <td>0.003901</td>\n",
       "      <td>11</td>\n",
       "    </tr>\n",
       "    <tr>\n",
       "      <th>17</th>\n",
       "      <td>Indoor</td>\n",
       "      <td>0.233586</td>\n",
       "      <td>0.014451</td>\n",
       "      <td>0.347779</td>\n",
       "      <td>0.160830</td>\n",
       "      <td>-0.000189</td>\n",
       "      <td>-0.006035</td>\n",
       "      <td>0.003611</td>\n",
       "      <td>Indoor</td>\n",
       "      <td>0.000000</td>\n",
       "      <td>8</td>\n",
       "    </tr>\n",
       "    <tr>\n",
       "      <th>18</th>\n",
       "      <td>Outdoor</td>\n",
       "      <td>0.260713</td>\n",
       "      <td>0.204840</td>\n",
       "      <td>0.290367</td>\n",
       "      <td>0.134759</td>\n",
       "      <td>0.096489</td>\n",
       "      <td>0.010634</td>\n",
       "      <td>0.256089</td>\n",
       "      <td>Outdoor</td>\n",
       "      <td>0.301598</td>\n",
       "      <td>21</td>\n",
       "    </tr>\n",
       "    <tr>\n",
       "      <th>19</th>\n",
       "      <td>Entertainment</td>\n",
       "      <td>0.365987</td>\n",
       "      <td>0.226699</td>\n",
       "      <td>0.429030</td>\n",
       "      <td>0.033583</td>\n",
       "      <td>0.293688</td>\n",
       "      <td>0.053960</td>\n",
       "      <td>1.358480</td>\n",
       "      <td>Entertainment</td>\n",
       "      <td>0.916783</td>\n",
       "      <td>47</td>\n",
       "    </tr>\n",
       "    <tr>\n",
       "      <th>20</th>\n",
       "      <td>Events</td>\n",
       "      <td>0.400930</td>\n",
       "      <td>0.294096</td>\n",
       "      <td>0.467992</td>\n",
       "      <td>0.000000</td>\n",
       "      <td>0.002012</td>\n",
       "      <td>-0.005946</td>\n",
       "      <td>0.024140</td>\n",
       "      <td>Events</td>\n",
       "      <td>0.006866</td>\n",
       "      <td>0</td>\n",
       "    </tr>\n",
       "  </tbody>\n",
       "</table>\n",
       "</div>"
      ],
      "text/plain": [
       "         Maatregelgroep  median_LASSO  low_LASSO  high_LASSO  norm_LASSO  \\\n",
       "0         MassGatherAll     -0.639575  -0.754778   -0.460861    1.000000   \n",
       "1             Workplace     -0.524242  -0.562500   -0.493870    0.889156   \n",
       "2     Restaurants_Cafes     -0.352473  -0.567795   -0.267442    0.724074   \n",
       "3              Telework     -0.295775  -0.447292   -0.022073    0.669584   \n",
       "4                 Masks     -0.265226  -0.292266   -0.247799    0.640224   \n",
       "5             Transport     -0.200571  -0.252349   -0.144807    0.578086   \n",
       "6               Prikken     -0.159254  -0.188492   -0.143673    0.538378   \n",
       "7              Religion     -0.145585  -0.183883   -0.018453    0.525241   \n",
       "8               Daycare     -0.124421  -0.129945   -0.103607    0.504900   \n",
       "9                 Shops     -0.119435  -0.150883   -0.006404    0.500108   \n",
       "10     Higher_Education     -0.068411  -0.081406   -0.039690    0.451071   \n",
       "11    Primary_Education     -0.020610  -0.051202   -0.014367    0.405130   \n",
       "12         MassGather50      0.016261  -0.005685    0.085494    0.369695   \n",
       "13               Sports      0.019665  -0.001865    0.039981    0.366423   \n",
       "14  Secondary_Education      0.075934  -0.013191    0.104848    0.312344   \n",
       "15             Stayhome      0.094023   0.078843    0.111254    0.294960   \n",
       "16           Gatherings      0.169369   0.035045    0.258919    0.222547   \n",
       "17               Indoor      0.233586   0.014451    0.347779    0.160830   \n",
       "18              Outdoor      0.260713   0.204840    0.290367    0.134759   \n",
       "19        Entertainment      0.365987   0.226699    0.429030    0.033583   \n",
       "20               Events      0.400930   0.294096    0.467992    0.000000   \n",
       "\n",
       "    median_RF    low_RF   high_RF              Measure   norm_RF  mean_norm  \n",
       "0    0.278115  0.066485  0.903793        MassGatherAll  0.868202         93  \n",
       "1    0.001809 -0.011078  0.020441            Workplace  0.006233         44  \n",
       "2    0.320363  0.069381  1.572198    Restaurants/Cafes  1.000000         86  \n",
       "3    0.259556  0.065505  1.278198             Telework  0.810305         73  \n",
       "4    0.020484 -0.013156  0.104098                Masks  0.064491         35  \n",
       "5    0.001721 -0.012224  0.036320            Transport  0.005958         29  \n",
       "6    0.037495  0.007749  0.131850              Prikken  0.117558         32  \n",
       "7    0.000921 -0.004974  0.010384             Religion  0.003460         26  \n",
       "8    0.032621  0.008838  0.113599              Daycare  0.102355         30  \n",
       "9    0.000847 -0.005145  0.008217                Shops  0.003231         25  \n",
       "10   0.005802 -0.009173  0.034323     Higher Education  0.018688         23  \n",
       "11   0.002244 -0.010925  0.020552    Primary Education  0.007589         20  \n",
       "12   0.002697 -0.011152  0.021486         MassGather50  0.009001         18  \n",
       "13   0.110081  0.040048  0.425484               Sports  0.343998         35  \n",
       "14   0.002006 -0.017790  0.019559  Secondary Education  0.006845         15  \n",
       "15   0.006711 -0.005816  0.035007             Stayhome  0.021525         15  \n",
       "16   0.001062 -0.016655  0.012444           Gatherings  0.003901         11  \n",
       "17  -0.000189 -0.006035  0.003611               Indoor  0.000000          8  \n",
       "18   0.096489  0.010634  0.256089              Outdoor  0.301598         21  \n",
       "19   0.293688  0.053960  1.358480        Entertainment  0.916783         47  \n",
       "20   0.002012 -0.005946  0.024140               Events  0.006866          0  "
      ]
     },
     "execution_count": 101,
     "metadata": {},
     "output_type": "execute_result"
    }
   ],
   "source": [
    "merged = lasso.merge(rf, left_on='Maatregelgroep', right_on='Maatregelgroep', suffixes=('_LASSO', '_RF'))\n",
    "merged['mean_norm'] = (merged[['norm_LASSO', 'norm_RF']].mean(axis=1)*100).astype(int)\n",
    "merged"
   ]
  },
  {
   "cell_type": "code",
   "execution_count": 105,
   "metadata": {},
   "outputs": [
    {
     "data": {
      "text/plain": [
       "Measure\n",
       "MassGatherAll          93\n",
       "Restaurants/Cafes      86\n",
       "Telework               73\n",
       "Entertainment          47\n",
       "Workplace              44\n",
       "Sports                 35\n",
       "Masks                  35\n",
       "Prikken                32\n",
       "Daycare                30\n",
       "Transport              29\n",
       "Religion               26\n",
       "Shops                  25\n",
       "Higher Education       23\n",
       "Outdoor                21\n",
       "Primary Education      20\n",
       "MassGather50           18\n",
       "Secondary Education    15\n",
       "Stayhome               15\n",
       "Gatherings             11\n",
       "Indoor                  8\n",
       "Events                  0\n",
       "Name: mean_norm, dtype: int64"
      ]
     },
     "execution_count": 105,
     "metadata": {},
     "output_type": "execute_result"
    }
   ],
   "source": [
    "# pd.options.display.float_format = \"{:,.3f}\".format\n",
    "res = merged.sort_values(by='mean_norm', ascending=False).set_index('Measure')[['mean_norm', 'median_LASSO', 'median_RF']]\n",
    "\n",
    "res['median_LASSO'] = res['median_LASSO'].round(2)\n",
    "res['median_RF'] = res['median_RF'].round(3)\n",
    "res['mean_norm']\n",
    "\n"
   ]
  },
  {
   "cell_type": "code",
   "execution_count": 106,
   "metadata": {},
   "outputs": [
    {
     "data": {
      "text/html": [
       "<div>\n",
       "<style scoped>\n",
       "    .dataframe tbody tr th:only-of-type {\n",
       "        vertical-align: middle;\n",
       "    }\n",
       "\n",
       "    .dataframe tbody tr th {\n",
       "        vertical-align: top;\n",
       "    }\n",
       "\n",
       "    .dataframe thead th {\n",
       "        text-align: right;\n",
       "    }\n",
       "</style>\n",
       "<table border=\"1\" class=\"dataframe\">\n",
       "  <thead>\n",
       "    <tr style=\"text-align: right;\">\n",
       "      <th></th>\n",
       "      <th>Maatregelgroep</th>\n",
       "      <th>median_LASSO</th>\n",
       "      <th>low_LASSO</th>\n",
       "      <th>high_LASSO</th>\n",
       "      <th>norm_LASSO</th>\n",
       "      <th>median_RF</th>\n",
       "      <th>low_RF</th>\n",
       "      <th>high_RF</th>\n",
       "      <th>Measure</th>\n",
       "      <th>norm_RF</th>\n",
       "      <th>mean_norm</th>\n",
       "    </tr>\n",
       "  </thead>\n",
       "  <tbody>\n",
       "    <tr>\n",
       "      <th>0</th>\n",
       "      <td>MassGatherAll</td>\n",
       "      <td>-0.639575</td>\n",
       "      <td>-0.754778</td>\n",
       "      <td>-0.460861</td>\n",
       "      <td>1.000000</td>\n",
       "      <td>0.278115</td>\n",
       "      <td>0.066485</td>\n",
       "      <td>0.903793</td>\n",
       "      <td>MassGatherAll</td>\n",
       "      <td>0.868202</td>\n",
       "      <td>93</td>\n",
       "    </tr>\n",
       "    <tr>\n",
       "      <th>1</th>\n",
       "      <td>Workplace</td>\n",
       "      <td>-0.524242</td>\n",
       "      <td>-0.562500</td>\n",
       "      <td>-0.493870</td>\n",
       "      <td>0.889156</td>\n",
       "      <td>0.001809</td>\n",
       "      <td>-0.011078</td>\n",
       "      <td>0.020441</td>\n",
       "      <td>Workplace</td>\n",
       "      <td>0.006233</td>\n",
       "      <td>44</td>\n",
       "    </tr>\n",
       "    <tr>\n",
       "      <th>2</th>\n",
       "      <td>Restaurants_Cafes</td>\n",
       "      <td>-0.352473</td>\n",
       "      <td>-0.567795</td>\n",
       "      <td>-0.267442</td>\n",
       "      <td>0.724074</td>\n",
       "      <td>0.320363</td>\n",
       "      <td>0.069381</td>\n",
       "      <td>1.572198</td>\n",
       "      <td>Restaurants/Cafes</td>\n",
       "      <td>1.000000</td>\n",
       "      <td>86</td>\n",
       "    </tr>\n",
       "    <tr>\n",
       "      <th>3</th>\n",
       "      <td>Telework</td>\n",
       "      <td>-0.295775</td>\n",
       "      <td>-0.447292</td>\n",
       "      <td>-0.022073</td>\n",
       "      <td>0.669584</td>\n",
       "      <td>0.259556</td>\n",
       "      <td>0.065505</td>\n",
       "      <td>1.278198</td>\n",
       "      <td>Telework</td>\n",
       "      <td>0.810305</td>\n",
       "      <td>73</td>\n",
       "    </tr>\n",
       "    <tr>\n",
       "      <th>4</th>\n",
       "      <td>Masks</td>\n",
       "      <td>-0.265226</td>\n",
       "      <td>-0.292266</td>\n",
       "      <td>-0.247799</td>\n",
       "      <td>0.640224</td>\n",
       "      <td>0.020484</td>\n",
       "      <td>-0.013156</td>\n",
       "      <td>0.104098</td>\n",
       "      <td>Masks</td>\n",
       "      <td>0.064491</td>\n",
       "      <td>35</td>\n",
       "    </tr>\n",
       "    <tr>\n",
       "      <th>5</th>\n",
       "      <td>Transport</td>\n",
       "      <td>-0.200571</td>\n",
       "      <td>-0.252349</td>\n",
       "      <td>-0.144807</td>\n",
       "      <td>0.578086</td>\n",
       "      <td>0.001721</td>\n",
       "      <td>-0.012224</td>\n",
       "      <td>0.036320</td>\n",
       "      <td>Transport</td>\n",
       "      <td>0.005958</td>\n",
       "      <td>29</td>\n",
       "    </tr>\n",
       "    <tr>\n",
       "      <th>6</th>\n",
       "      <td>Prikken</td>\n",
       "      <td>-0.159254</td>\n",
       "      <td>-0.188492</td>\n",
       "      <td>-0.143673</td>\n",
       "      <td>0.538378</td>\n",
       "      <td>0.037495</td>\n",
       "      <td>0.007749</td>\n",
       "      <td>0.131850</td>\n",
       "      <td>Vaccinations</td>\n",
       "      <td>0.117558</td>\n",
       "      <td>32</td>\n",
       "    </tr>\n",
       "    <tr>\n",
       "      <th>7</th>\n",
       "      <td>Religion</td>\n",
       "      <td>-0.145585</td>\n",
       "      <td>-0.183883</td>\n",
       "      <td>-0.018453</td>\n",
       "      <td>0.525241</td>\n",
       "      <td>0.000921</td>\n",
       "      <td>-0.004974</td>\n",
       "      <td>0.010384</td>\n",
       "      <td>Religion</td>\n",
       "      <td>0.003460</td>\n",
       "      <td>26</td>\n",
       "    </tr>\n",
       "    <tr>\n",
       "      <th>8</th>\n",
       "      <td>Daycare</td>\n",
       "      <td>-0.124421</td>\n",
       "      <td>-0.129945</td>\n",
       "      <td>-0.103607</td>\n",
       "      <td>0.504900</td>\n",
       "      <td>0.032621</td>\n",
       "      <td>0.008838</td>\n",
       "      <td>0.113599</td>\n",
       "      <td>Daycare</td>\n",
       "      <td>0.102355</td>\n",
       "      <td>30</td>\n",
       "    </tr>\n",
       "    <tr>\n",
       "      <th>9</th>\n",
       "      <td>Shops</td>\n",
       "      <td>-0.119435</td>\n",
       "      <td>-0.150883</td>\n",
       "      <td>-0.006404</td>\n",
       "      <td>0.500108</td>\n",
       "      <td>0.000847</td>\n",
       "      <td>-0.005145</td>\n",
       "      <td>0.008217</td>\n",
       "      <td>Shops</td>\n",
       "      <td>0.003231</td>\n",
       "      <td>25</td>\n",
       "    </tr>\n",
       "    <tr>\n",
       "      <th>10</th>\n",
       "      <td>Higher_Education</td>\n",
       "      <td>-0.068411</td>\n",
       "      <td>-0.081406</td>\n",
       "      <td>-0.039690</td>\n",
       "      <td>0.451071</td>\n",
       "      <td>0.005802</td>\n",
       "      <td>-0.009173</td>\n",
       "      <td>0.034323</td>\n",
       "      <td>Higher Education</td>\n",
       "      <td>0.018688</td>\n",
       "      <td>23</td>\n",
       "    </tr>\n",
       "    <tr>\n",
       "      <th>11</th>\n",
       "      <td>Primary_Education</td>\n",
       "      <td>-0.020610</td>\n",
       "      <td>-0.051202</td>\n",
       "      <td>-0.014367</td>\n",
       "      <td>0.405130</td>\n",
       "      <td>0.002244</td>\n",
       "      <td>-0.010925</td>\n",
       "      <td>0.020552</td>\n",
       "      <td>Primary Education</td>\n",
       "      <td>0.007589</td>\n",
       "      <td>20</td>\n",
       "    </tr>\n",
       "    <tr>\n",
       "      <th>12</th>\n",
       "      <td>MassGather50</td>\n",
       "      <td>0.016261</td>\n",
       "      <td>-0.005685</td>\n",
       "      <td>0.085494</td>\n",
       "      <td>0.369695</td>\n",
       "      <td>0.002697</td>\n",
       "      <td>-0.011152</td>\n",
       "      <td>0.021486</td>\n",
       "      <td>MassGather50</td>\n",
       "      <td>0.009001</td>\n",
       "      <td>18</td>\n",
       "    </tr>\n",
       "    <tr>\n",
       "      <th>13</th>\n",
       "      <td>Sports</td>\n",
       "      <td>0.019665</td>\n",
       "      <td>-0.001865</td>\n",
       "      <td>0.039981</td>\n",
       "      <td>0.366423</td>\n",
       "      <td>0.110081</td>\n",
       "      <td>0.040048</td>\n",
       "      <td>0.425484</td>\n",
       "      <td>Sports</td>\n",
       "      <td>0.343998</td>\n",
       "      <td>35</td>\n",
       "    </tr>\n",
       "    <tr>\n",
       "      <th>14</th>\n",
       "      <td>Secondary_Education</td>\n",
       "      <td>0.075934</td>\n",
       "      <td>-0.013191</td>\n",
       "      <td>0.104848</td>\n",
       "      <td>0.312344</td>\n",
       "      <td>0.002006</td>\n",
       "      <td>-0.017790</td>\n",
       "      <td>0.019559</td>\n",
       "      <td>Secondary Education</td>\n",
       "      <td>0.006845</td>\n",
       "      <td>15</td>\n",
       "    </tr>\n",
       "    <tr>\n",
       "      <th>15</th>\n",
       "      <td>Stayhome</td>\n",
       "      <td>0.094023</td>\n",
       "      <td>0.078843</td>\n",
       "      <td>0.111254</td>\n",
       "      <td>0.294960</td>\n",
       "      <td>0.006711</td>\n",
       "      <td>-0.005816</td>\n",
       "      <td>0.035007</td>\n",
       "      <td>Stayhome</td>\n",
       "      <td>0.021525</td>\n",
       "      <td>15</td>\n",
       "    </tr>\n",
       "    <tr>\n",
       "      <th>16</th>\n",
       "      <td>Gatherings</td>\n",
       "      <td>0.169369</td>\n",
       "      <td>0.035045</td>\n",
       "      <td>0.258919</td>\n",
       "      <td>0.222547</td>\n",
       "      <td>0.001062</td>\n",
       "      <td>-0.016655</td>\n",
       "      <td>0.012444</td>\n",
       "      <td>Gatherings</td>\n",
       "      <td>0.003901</td>\n",
       "      <td>11</td>\n",
       "    </tr>\n",
       "    <tr>\n",
       "      <th>17</th>\n",
       "      <td>Indoor</td>\n",
       "      <td>0.233586</td>\n",
       "      <td>0.014451</td>\n",
       "      <td>0.347779</td>\n",
       "      <td>0.160830</td>\n",
       "      <td>-0.000189</td>\n",
       "      <td>-0.006035</td>\n",
       "      <td>0.003611</td>\n",
       "      <td>Indoor</td>\n",
       "      <td>0.000000</td>\n",
       "      <td>8</td>\n",
       "    </tr>\n",
       "    <tr>\n",
       "      <th>18</th>\n",
       "      <td>Outdoor</td>\n",
       "      <td>0.260713</td>\n",
       "      <td>0.204840</td>\n",
       "      <td>0.290367</td>\n",
       "      <td>0.134759</td>\n",
       "      <td>0.096489</td>\n",
       "      <td>0.010634</td>\n",
       "      <td>0.256089</td>\n",
       "      <td>Outdoor</td>\n",
       "      <td>0.301598</td>\n",
       "      <td>21</td>\n",
       "    </tr>\n",
       "    <tr>\n",
       "      <th>19</th>\n",
       "      <td>Entertainment</td>\n",
       "      <td>0.365987</td>\n",
       "      <td>0.226699</td>\n",
       "      <td>0.429030</td>\n",
       "      <td>0.033583</td>\n",
       "      <td>0.293688</td>\n",
       "      <td>0.053960</td>\n",
       "      <td>1.358480</td>\n",
       "      <td>Entertainment</td>\n",
       "      <td>0.916783</td>\n",
       "      <td>47</td>\n",
       "    </tr>\n",
       "    <tr>\n",
       "      <th>20</th>\n",
       "      <td>Events</td>\n",
       "      <td>0.400930</td>\n",
       "      <td>0.294096</td>\n",
       "      <td>0.467992</td>\n",
       "      <td>0.000000</td>\n",
       "      <td>0.002012</td>\n",
       "      <td>-0.005946</td>\n",
       "      <td>0.024140</td>\n",
       "      <td>Events</td>\n",
       "      <td>0.006866</td>\n",
       "      <td>0</td>\n",
       "    </tr>\n",
       "  </tbody>\n",
       "</table>\n",
       "</div>"
      ],
      "text/plain": [
       "         Maatregelgroep  median_LASSO  low_LASSO  high_LASSO  norm_LASSO  \\\n",
       "0         MassGatherAll     -0.639575  -0.754778   -0.460861    1.000000   \n",
       "1             Workplace     -0.524242  -0.562500   -0.493870    0.889156   \n",
       "2     Restaurants_Cafes     -0.352473  -0.567795   -0.267442    0.724074   \n",
       "3              Telework     -0.295775  -0.447292   -0.022073    0.669584   \n",
       "4                 Masks     -0.265226  -0.292266   -0.247799    0.640224   \n",
       "5             Transport     -0.200571  -0.252349   -0.144807    0.578086   \n",
       "6               Prikken     -0.159254  -0.188492   -0.143673    0.538378   \n",
       "7              Religion     -0.145585  -0.183883   -0.018453    0.525241   \n",
       "8               Daycare     -0.124421  -0.129945   -0.103607    0.504900   \n",
       "9                 Shops     -0.119435  -0.150883   -0.006404    0.500108   \n",
       "10     Higher_Education     -0.068411  -0.081406   -0.039690    0.451071   \n",
       "11    Primary_Education     -0.020610  -0.051202   -0.014367    0.405130   \n",
       "12         MassGather50      0.016261  -0.005685    0.085494    0.369695   \n",
       "13               Sports      0.019665  -0.001865    0.039981    0.366423   \n",
       "14  Secondary_Education      0.075934  -0.013191    0.104848    0.312344   \n",
       "15             Stayhome      0.094023   0.078843    0.111254    0.294960   \n",
       "16           Gatherings      0.169369   0.035045    0.258919    0.222547   \n",
       "17               Indoor      0.233586   0.014451    0.347779    0.160830   \n",
       "18              Outdoor      0.260713   0.204840    0.290367    0.134759   \n",
       "19        Entertainment      0.365987   0.226699    0.429030    0.033583   \n",
       "20               Events      0.400930   0.294096    0.467992    0.000000   \n",
       "\n",
       "    median_RF    low_RF   high_RF              Measure   norm_RF  mean_norm  \n",
       "0    0.278115  0.066485  0.903793        MassGatherAll  0.868202         93  \n",
       "1    0.001809 -0.011078  0.020441            Workplace  0.006233         44  \n",
       "2    0.320363  0.069381  1.572198    Restaurants/Cafes  1.000000         86  \n",
       "3    0.259556  0.065505  1.278198             Telework  0.810305         73  \n",
       "4    0.020484 -0.013156  0.104098                Masks  0.064491         35  \n",
       "5    0.001721 -0.012224  0.036320            Transport  0.005958         29  \n",
       "6    0.037495  0.007749  0.131850         Vaccinations  0.117558         32  \n",
       "7    0.000921 -0.004974  0.010384             Religion  0.003460         26  \n",
       "8    0.032621  0.008838  0.113599              Daycare  0.102355         30  \n",
       "9    0.000847 -0.005145  0.008217                Shops  0.003231         25  \n",
       "10   0.005802 -0.009173  0.034323     Higher Education  0.018688         23  \n",
       "11   0.002244 -0.010925  0.020552    Primary Education  0.007589         20  \n",
       "12   0.002697 -0.011152  0.021486         MassGather50  0.009001         18  \n",
       "13   0.110081  0.040048  0.425484               Sports  0.343998         35  \n",
       "14   0.002006 -0.017790  0.019559  Secondary Education  0.006845         15  \n",
       "15   0.006711 -0.005816  0.035007             Stayhome  0.021525         15  \n",
       "16   0.001062 -0.016655  0.012444           Gatherings  0.003901         11  \n",
       "17  -0.000189 -0.006035  0.003611               Indoor  0.000000          8  \n",
       "18   0.096489  0.010634  0.256089              Outdoor  0.301598         21  \n",
       "19   0.293688  0.053960  1.358480        Entertainment  0.916783         47  \n",
       "20   0.002012 -0.005946  0.024140               Events  0.006866          0  "
      ]
     },
     "execution_count": 106,
     "metadata": {},
     "output_type": "execute_result"
    }
   ],
   "source": [
    "merged.loc[merged['Measure'] == 'Prikken', 'Measure'] = 'Vaccinations' \n",
    "merged"
   ]
  },
  {
   "cell_type": "code",
   "execution_count": 107,
   "metadata": {},
   "outputs": [
    {
     "data": {
      "text/html": [
       "<div>\n",
       "<style scoped>\n",
       "    .dataframe tbody tr th:only-of-type {\n",
       "        vertical-align: middle;\n",
       "    }\n",
       "\n",
       "    .dataframe tbody tr th {\n",
       "        vertical-align: top;\n",
       "    }\n",
       "\n",
       "    .dataframe thead th {\n",
       "        text-align: right;\n",
       "    }\n",
       "</style>\n",
       "<table border=\"1\" class=\"dataframe\">\n",
       "  <thead>\n",
       "    <tr style=\"text-align: right;\">\n",
       "      <th></th>\n",
       "      <th>Measure</th>\n",
       "      <th>mean_norm</th>\n",
       "    </tr>\n",
       "  </thead>\n",
       "  <tbody>\n",
       "    <tr>\n",
       "      <th>0</th>\n",
       "      <td>MassGatherAll</td>\n",
       "      <td>93</td>\n",
       "    </tr>\n",
       "    <tr>\n",
       "      <th>2</th>\n",
       "      <td>Restaurants/Cafes</td>\n",
       "      <td>86</td>\n",
       "    </tr>\n",
       "    <tr>\n",
       "      <th>3</th>\n",
       "      <td>Telework</td>\n",
       "      <td>73</td>\n",
       "    </tr>\n",
       "    <tr>\n",
       "      <th>19</th>\n",
       "      <td>Entertainment</td>\n",
       "      <td>47</td>\n",
       "    </tr>\n",
       "    <tr>\n",
       "      <th>1</th>\n",
       "      <td>Workplace</td>\n",
       "      <td>44</td>\n",
       "    </tr>\n",
       "    <tr>\n",
       "      <th>13</th>\n",
       "      <td>Sports</td>\n",
       "      <td>35</td>\n",
       "    </tr>\n",
       "    <tr>\n",
       "      <th>4</th>\n",
       "      <td>Masks</td>\n",
       "      <td>35</td>\n",
       "    </tr>\n",
       "    <tr>\n",
       "      <th>6</th>\n",
       "      <td>Vaccinations</td>\n",
       "      <td>32</td>\n",
       "    </tr>\n",
       "    <tr>\n",
       "      <th>8</th>\n",
       "      <td>Daycare</td>\n",
       "      <td>30</td>\n",
       "    </tr>\n",
       "    <tr>\n",
       "      <th>5</th>\n",
       "      <td>Transport</td>\n",
       "      <td>29</td>\n",
       "    </tr>\n",
       "    <tr>\n",
       "      <th>7</th>\n",
       "      <td>Religion</td>\n",
       "      <td>26</td>\n",
       "    </tr>\n",
       "    <tr>\n",
       "      <th>9</th>\n",
       "      <td>Shops</td>\n",
       "      <td>25</td>\n",
       "    </tr>\n",
       "    <tr>\n",
       "      <th>10</th>\n",
       "      <td>Higher Education</td>\n",
       "      <td>23</td>\n",
       "    </tr>\n",
       "    <tr>\n",
       "      <th>18</th>\n",
       "      <td>Outdoor</td>\n",
       "      <td>21</td>\n",
       "    </tr>\n",
       "    <tr>\n",
       "      <th>11</th>\n",
       "      <td>Primary Education</td>\n",
       "      <td>20</td>\n",
       "    </tr>\n",
       "    <tr>\n",
       "      <th>12</th>\n",
       "      <td>MassGather50</td>\n",
       "      <td>18</td>\n",
       "    </tr>\n",
       "    <tr>\n",
       "      <th>14</th>\n",
       "      <td>Secondary Education</td>\n",
       "      <td>15</td>\n",
       "    </tr>\n",
       "    <tr>\n",
       "      <th>15</th>\n",
       "      <td>Stayhome</td>\n",
       "      <td>15</td>\n",
       "    </tr>\n",
       "    <tr>\n",
       "      <th>16</th>\n",
       "      <td>Gatherings</td>\n",
       "      <td>11</td>\n",
       "    </tr>\n",
       "    <tr>\n",
       "      <th>17</th>\n",
       "      <td>Indoor</td>\n",
       "      <td>8</td>\n",
       "    </tr>\n",
       "    <tr>\n",
       "      <th>20</th>\n",
       "      <td>Events</td>\n",
       "      <td>0</td>\n",
       "    </tr>\n",
       "  </tbody>\n",
       "</table>\n",
       "</div>"
      ],
      "text/plain": [
       "                Measure  mean_norm\n",
       "0         MassGatherAll         93\n",
       "2     Restaurants/Cafes         86\n",
       "3              Telework         73\n",
       "19        Entertainment         47\n",
       "1             Workplace         44\n",
       "13               Sports         35\n",
       "4                 Masks         35\n",
       "6          Vaccinations         32\n",
       "8               Daycare         30\n",
       "5             Transport         29\n",
       "7              Religion         26\n",
       "9                 Shops         25\n",
       "10     Higher Education         23\n",
       "18              Outdoor         21\n",
       "11    Primary Education         20\n",
       "12         MassGather50         18\n",
       "14  Secondary Education         15\n",
       "15             Stayhome         15\n",
       "16           Gatherings         11\n",
       "17               Indoor          8\n",
       "20               Events          0"
      ]
     },
     "execution_count": 107,
     "metadata": {},
     "output_type": "execute_result"
    }
   ],
   "source": [
    "merged[['Measure', 'mean_norm']].sort_values('mean_norm', ascending=False)"
   ]
  },
  {
   "cell_type": "code",
   "execution_count": 108,
   "metadata": {},
   "outputs": [
    {
     "data": {
      "application/vnd.plotly.v1+json": {
       "config": {
        "plotlyServerURL": "https://plot.ly"
       },
       "data": [
        {
         "error_x": {
          "array": [
           0.06706165376350737,
           0.06304343461161882,
           0.029654184533569716,
           0.11419271796204628,
           0.08955012153804981,
           0.0172307854429508,
           0.02891341826868639,
           0.0203157968960283,
           0.0692329475498576,
           0.006242441384641998,
           0.0287216869076566,
           0.1130302852764468,
           0.020814659351326203,
           0.1271328248700377,
           0.015581962116202303,
           0.05576440286927509,
           0.0174265996221962,
           0.27370176288470893,
           0.0850316828384472,
           0.0303722262684869,
           0.1787140940658824
          ],
          "arrayminus": [
           0.10683452797178644,
           0.13928817330275178,
           0.055872987867196605,
           0.219135350212435,
           0.13432429313306637,
           0.015179935647029005,
           0.0891251633707404,
           0.021529504825291798,
           0.021946023267203,
           0.0305917610761833,
           0.012994908124123794,
           0.0314481100794982,
           0.005523695528945896,
           0.03829778870285791,
           0.0292379846506631,
           0.05177775192965792,
           0.027039848852730586,
           0.15151649589227328,
           0.21532142158197792,
           0.038258342383724386,
           0.11520313986580288
          ],
          "symmetric": false,
          "type": "data"
         },
         "marker": {
          "color": [
           "red",
           "red",
           "red",
           "red",
           "red",
           "red",
           "red",
           "red",
           "red",
           "green",
           "green",
           "green",
           "green",
           "green",
           "green",
           "green",
           "green",
           "green",
           "green",
           "green",
           "green"
          ]
         },
         "orientation": "h",
         "type": "bar",
         "x": [
          0.4009304588919784,
          0.3659870031901299,
          0.2607126116595646,
          0.2335859038624945,
          0.1693692741068344,
          0.0940233376313091,
          0.0759342629772597,
          0.0196647372390481,
          0.0162606210424342,
          -0.0206098580790168,
          -0.0684114579565082,
          -0.119434588642065,
          -0.1244213558316654,
          -0.1455854294502505,
          -0.1592544836126045,
          -0.2005712829865721,
          -0.2652259558988332,
          -0.2957751149752269,
          -0.3524732207147308,
          -0.5242417911926396,
          -0.6395753443917318
         ],
         "y": [
          "Events",
          "Entertainment",
          "Outdoor",
          "Indoor",
          "Gatherings",
          "Stayhome",
          "Secondary Education",
          "Sports",
          "MassGather50",
          "Primary Education",
          "Higher Education",
          "Shops",
          "Daycare",
          "Religion",
          "Vaccinations",
          "Transport",
          "Masks",
          "Telework",
          "Restaurants/Cafes",
          "Workplace",
          "MassGatherAll"
         ]
        }
       ],
       "layout": {
        "template": {
         "data": {
          "bar": [
           {
            "error_x": {
             "color": "#2a3f5f"
            },
            "error_y": {
             "color": "#2a3f5f"
            },
            "marker": {
             "line": {
              "color": "#E5ECF6",
              "width": 0.5
             }
            },
            "type": "bar"
           }
          ],
          "barpolar": [
           {
            "marker": {
             "line": {
              "color": "#E5ECF6",
              "width": 0.5
             }
            },
            "type": "barpolar"
           }
          ],
          "carpet": [
           {
            "aaxis": {
             "endlinecolor": "#2a3f5f",
             "gridcolor": "white",
             "linecolor": "white",
             "minorgridcolor": "white",
             "startlinecolor": "#2a3f5f"
            },
            "baxis": {
             "endlinecolor": "#2a3f5f",
             "gridcolor": "white",
             "linecolor": "white",
             "minorgridcolor": "white",
             "startlinecolor": "#2a3f5f"
            },
            "type": "carpet"
           }
          ],
          "choropleth": [
           {
            "colorbar": {
             "outlinewidth": 0,
             "ticks": ""
            },
            "type": "choropleth"
           }
          ],
          "contour": [
           {
            "colorbar": {
             "outlinewidth": 0,
             "ticks": ""
            },
            "colorscale": [
             [
              0,
              "#0d0887"
             ],
             [
              0.1111111111111111,
              "#46039f"
             ],
             [
              0.2222222222222222,
              "#7201a8"
             ],
             [
              0.3333333333333333,
              "#9c179e"
             ],
             [
              0.4444444444444444,
              "#bd3786"
             ],
             [
              0.5555555555555556,
              "#d8576b"
             ],
             [
              0.6666666666666666,
              "#ed7953"
             ],
             [
              0.7777777777777778,
              "#fb9f3a"
             ],
             [
              0.8888888888888888,
              "#fdca26"
             ],
             [
              1,
              "#f0f921"
             ]
            ],
            "type": "contour"
           }
          ],
          "contourcarpet": [
           {
            "colorbar": {
             "outlinewidth": 0,
             "ticks": ""
            },
            "type": "contourcarpet"
           }
          ],
          "heatmap": [
           {
            "colorbar": {
             "outlinewidth": 0,
             "ticks": ""
            },
            "colorscale": [
             [
              0,
              "#0d0887"
             ],
             [
              0.1111111111111111,
              "#46039f"
             ],
             [
              0.2222222222222222,
              "#7201a8"
             ],
             [
              0.3333333333333333,
              "#9c179e"
             ],
             [
              0.4444444444444444,
              "#bd3786"
             ],
             [
              0.5555555555555556,
              "#d8576b"
             ],
             [
              0.6666666666666666,
              "#ed7953"
             ],
             [
              0.7777777777777778,
              "#fb9f3a"
             ],
             [
              0.8888888888888888,
              "#fdca26"
             ],
             [
              1,
              "#f0f921"
             ]
            ],
            "type": "heatmap"
           }
          ],
          "heatmapgl": [
           {
            "colorbar": {
             "outlinewidth": 0,
             "ticks": ""
            },
            "colorscale": [
             [
              0,
              "#0d0887"
             ],
             [
              0.1111111111111111,
              "#46039f"
             ],
             [
              0.2222222222222222,
              "#7201a8"
             ],
             [
              0.3333333333333333,
              "#9c179e"
             ],
             [
              0.4444444444444444,
              "#bd3786"
             ],
             [
              0.5555555555555556,
              "#d8576b"
             ],
             [
              0.6666666666666666,
              "#ed7953"
             ],
             [
              0.7777777777777778,
              "#fb9f3a"
             ],
             [
              0.8888888888888888,
              "#fdca26"
             ],
             [
              1,
              "#f0f921"
             ]
            ],
            "type": "heatmapgl"
           }
          ],
          "histogram": [
           {
            "marker": {
             "colorbar": {
              "outlinewidth": 0,
              "ticks": ""
             }
            },
            "type": "histogram"
           }
          ],
          "histogram2d": [
           {
            "colorbar": {
             "outlinewidth": 0,
             "ticks": ""
            },
            "colorscale": [
             [
              0,
              "#0d0887"
             ],
             [
              0.1111111111111111,
              "#46039f"
             ],
             [
              0.2222222222222222,
              "#7201a8"
             ],
             [
              0.3333333333333333,
              "#9c179e"
             ],
             [
              0.4444444444444444,
              "#bd3786"
             ],
             [
              0.5555555555555556,
              "#d8576b"
             ],
             [
              0.6666666666666666,
              "#ed7953"
             ],
             [
              0.7777777777777778,
              "#fb9f3a"
             ],
             [
              0.8888888888888888,
              "#fdca26"
             ],
             [
              1,
              "#f0f921"
             ]
            ],
            "type": "histogram2d"
           }
          ],
          "histogram2dcontour": [
           {
            "colorbar": {
             "outlinewidth": 0,
             "ticks": ""
            },
            "colorscale": [
             [
              0,
              "#0d0887"
             ],
             [
              0.1111111111111111,
              "#46039f"
             ],
             [
              0.2222222222222222,
              "#7201a8"
             ],
             [
              0.3333333333333333,
              "#9c179e"
             ],
             [
              0.4444444444444444,
              "#bd3786"
             ],
             [
              0.5555555555555556,
              "#d8576b"
             ],
             [
              0.6666666666666666,
              "#ed7953"
             ],
             [
              0.7777777777777778,
              "#fb9f3a"
             ],
             [
              0.8888888888888888,
              "#fdca26"
             ],
             [
              1,
              "#f0f921"
             ]
            ],
            "type": "histogram2dcontour"
           }
          ],
          "mesh3d": [
           {
            "colorbar": {
             "outlinewidth": 0,
             "ticks": ""
            },
            "type": "mesh3d"
           }
          ],
          "parcoords": [
           {
            "line": {
             "colorbar": {
              "outlinewidth": 0,
              "ticks": ""
             }
            },
            "type": "parcoords"
           }
          ],
          "pie": [
           {
            "automargin": true,
            "type": "pie"
           }
          ],
          "scatter": [
           {
            "marker": {
             "colorbar": {
              "outlinewidth": 0,
              "ticks": ""
             }
            },
            "type": "scatter"
           }
          ],
          "scatter3d": [
           {
            "line": {
             "colorbar": {
              "outlinewidth": 0,
              "ticks": ""
             }
            },
            "marker": {
             "colorbar": {
              "outlinewidth": 0,
              "ticks": ""
             }
            },
            "type": "scatter3d"
           }
          ],
          "scattercarpet": [
           {
            "marker": {
             "colorbar": {
              "outlinewidth": 0,
              "ticks": ""
             }
            },
            "type": "scattercarpet"
           }
          ],
          "scattergeo": [
           {
            "marker": {
             "colorbar": {
              "outlinewidth": 0,
              "ticks": ""
             }
            },
            "type": "scattergeo"
           }
          ],
          "scattergl": [
           {
            "marker": {
             "colorbar": {
              "outlinewidth": 0,
              "ticks": ""
             }
            },
            "type": "scattergl"
           }
          ],
          "scattermapbox": [
           {
            "marker": {
             "colorbar": {
              "outlinewidth": 0,
              "ticks": ""
             }
            },
            "type": "scattermapbox"
           }
          ],
          "scatterpolar": [
           {
            "marker": {
             "colorbar": {
              "outlinewidth": 0,
              "ticks": ""
             }
            },
            "type": "scatterpolar"
           }
          ],
          "scatterpolargl": [
           {
            "marker": {
             "colorbar": {
              "outlinewidth": 0,
              "ticks": ""
             }
            },
            "type": "scatterpolargl"
           }
          ],
          "scatterternary": [
           {
            "marker": {
             "colorbar": {
              "outlinewidth": 0,
              "ticks": ""
             }
            },
            "type": "scatterternary"
           }
          ],
          "surface": [
           {
            "colorbar": {
             "outlinewidth": 0,
             "ticks": ""
            },
            "colorscale": [
             [
              0,
              "#0d0887"
             ],
             [
              0.1111111111111111,
              "#46039f"
             ],
             [
              0.2222222222222222,
              "#7201a8"
             ],
             [
              0.3333333333333333,
              "#9c179e"
             ],
             [
              0.4444444444444444,
              "#bd3786"
             ],
             [
              0.5555555555555556,
              "#d8576b"
             ],
             [
              0.6666666666666666,
              "#ed7953"
             ],
             [
              0.7777777777777778,
              "#fb9f3a"
             ],
             [
              0.8888888888888888,
              "#fdca26"
             ],
             [
              1,
              "#f0f921"
             ]
            ],
            "type": "surface"
           }
          ],
          "table": [
           {
            "cells": {
             "fill": {
              "color": "#EBF0F8"
             },
             "line": {
              "color": "white"
             }
            },
            "header": {
             "fill": {
              "color": "#C8D4E3"
             },
             "line": {
              "color": "white"
             }
            },
            "type": "table"
           }
          ]
         },
         "layout": {
          "annotationdefaults": {
           "arrowcolor": "#2a3f5f",
           "arrowhead": 0,
           "arrowwidth": 1
          },
          "autotypenumbers": "strict",
          "coloraxis": {
           "colorbar": {
            "outlinewidth": 0,
            "ticks": ""
           }
          },
          "colorscale": {
           "diverging": [
            [
             0,
             "#8e0152"
            ],
            [
             0.1,
             "#c51b7d"
            ],
            [
             0.2,
             "#de77ae"
            ],
            [
             0.3,
             "#f1b6da"
            ],
            [
             0.4,
             "#fde0ef"
            ],
            [
             0.5,
             "#f7f7f7"
            ],
            [
             0.6,
             "#e6f5d0"
            ],
            [
             0.7,
             "#b8e186"
            ],
            [
             0.8,
             "#7fbc41"
            ],
            [
             0.9,
             "#4d9221"
            ],
            [
             1,
             "#276419"
            ]
           ],
           "sequential": [
            [
             0,
             "#0d0887"
            ],
            [
             0.1111111111111111,
             "#46039f"
            ],
            [
             0.2222222222222222,
             "#7201a8"
            ],
            [
             0.3333333333333333,
             "#9c179e"
            ],
            [
             0.4444444444444444,
             "#bd3786"
            ],
            [
             0.5555555555555556,
             "#d8576b"
            ],
            [
             0.6666666666666666,
             "#ed7953"
            ],
            [
             0.7777777777777778,
             "#fb9f3a"
            ],
            [
             0.8888888888888888,
             "#fdca26"
            ],
            [
             1,
             "#f0f921"
            ]
           ],
           "sequentialminus": [
            [
             0,
             "#0d0887"
            ],
            [
             0.1111111111111111,
             "#46039f"
            ],
            [
             0.2222222222222222,
             "#7201a8"
            ],
            [
             0.3333333333333333,
             "#9c179e"
            ],
            [
             0.4444444444444444,
             "#bd3786"
            ],
            [
             0.5555555555555556,
             "#d8576b"
            ],
            [
             0.6666666666666666,
             "#ed7953"
            ],
            [
             0.7777777777777778,
             "#fb9f3a"
            ],
            [
             0.8888888888888888,
             "#fdca26"
            ],
            [
             1,
             "#f0f921"
            ]
           ]
          },
          "colorway": [
           "#636efa",
           "#EF553B",
           "#00cc96",
           "#ab63fa",
           "#FFA15A",
           "#19d3f3",
           "#FF6692",
           "#B6E880",
           "#FF97FF",
           "#FECB52"
          ],
          "font": {
           "color": "#2a3f5f"
          },
          "geo": {
           "bgcolor": "white",
           "lakecolor": "white",
           "landcolor": "#E5ECF6",
           "showlakes": true,
           "showland": true,
           "subunitcolor": "white"
          },
          "hoverlabel": {
           "align": "left"
          },
          "hovermode": "closest",
          "mapbox": {
           "style": "light"
          },
          "paper_bgcolor": "white",
          "plot_bgcolor": "#E5ECF6",
          "polar": {
           "angularaxis": {
            "gridcolor": "white",
            "linecolor": "white",
            "ticks": ""
           },
           "bgcolor": "#E5ECF6",
           "radialaxis": {
            "gridcolor": "white",
            "linecolor": "white",
            "ticks": ""
           }
          },
          "scene": {
           "xaxis": {
            "backgroundcolor": "#E5ECF6",
            "gridcolor": "white",
            "gridwidth": 2,
            "linecolor": "white",
            "showbackground": true,
            "ticks": "",
            "zerolinecolor": "white"
           },
           "yaxis": {
            "backgroundcolor": "#E5ECF6",
            "gridcolor": "white",
            "gridwidth": 2,
            "linecolor": "white",
            "showbackground": true,
            "ticks": "",
            "zerolinecolor": "white"
           },
           "zaxis": {
            "backgroundcolor": "#E5ECF6",
            "gridcolor": "white",
            "gridwidth": 2,
            "linecolor": "white",
            "showbackground": true,
            "ticks": "",
            "zerolinecolor": "white"
           }
          },
          "shapedefaults": {
           "line": {
            "color": "#2a3f5f"
           }
          },
          "ternary": {
           "aaxis": {
            "gridcolor": "white",
            "linecolor": "white",
            "ticks": ""
           },
           "baxis": {
            "gridcolor": "white",
            "linecolor": "white",
            "ticks": ""
           },
           "bgcolor": "#E5ECF6",
           "caxis": {
            "gridcolor": "white",
            "linecolor": "white",
            "ticks": ""
           }
          },
          "title": {
           "x": 0.05
          },
          "xaxis": {
           "automargin": true,
           "gridcolor": "white",
           "linecolor": "white",
           "ticks": "",
           "title": {
            "standoff": 15
           },
           "zerolinecolor": "white",
           "zerolinewidth": 2
          },
          "yaxis": {
           "automargin": true,
           "gridcolor": "white",
           "linecolor": "white",
           "ticks": "",
           "title": {
            "standoff": 15
           },
           "zerolinecolor": "white",
           "zerolinewidth": 2
          }
         }
        },
        "xaxis": {
         "title": {
          "text": "∆Rt"
         }
        },
        "yaxis": {
         "title": {
          "text": "Intervention measure groups (L3)"
         }
        }
       }
      },
      "text/html": [
       "<div>                            <div id=\"bf4e8d3a-60fb-4c54-a242-79da0eebd3cf\" class=\"plotly-graph-div\" style=\"height:525px; width:100%;\"></div>            <script type=\"text/javascript\">                require([\"plotly\"], function(Plotly) {                    window.PLOTLYENV=window.PLOTLYENV || {};                                    if (document.getElementById(\"bf4e8d3a-60fb-4c54-a242-79da0eebd3cf\")) {                    Plotly.newPlot(                        \"bf4e8d3a-60fb-4c54-a242-79da0eebd3cf\",                        [{\"error_x\": {\"array\": [0.06706165376350737, 0.06304343461161882, 0.029654184533569716, 0.11419271796204628, 0.08955012153804981, 0.0172307854429508, 0.02891341826868639, 0.0203157968960283, 0.0692329475498576, 0.006242441384641998, 0.0287216869076566, 0.1130302852764468, 0.020814659351326203, 0.1271328248700377, 0.015581962116202303, 0.05576440286927509, 0.0174265996221962, 0.27370176288470893, 0.0850316828384472, 0.0303722262684869, 0.1787140940658824], \"arrayminus\": [0.10683452797178644, 0.13928817330275178, 0.055872987867196605, 0.219135350212435, 0.13432429313306637, 0.015179935647029005, 0.0891251633707404, 0.021529504825291798, 0.021946023267203, 0.0305917610761833, 0.012994908124123794, 0.0314481100794982, 0.005523695528945896, 0.03829778870285791, 0.0292379846506631, 0.05177775192965792, 0.027039848852730586, 0.15151649589227328, 0.21532142158197792, 0.038258342383724386, 0.11520313986580288], \"symmetric\": false, \"type\": \"data\"}, \"marker\": {\"color\": [\"red\", \"red\", \"red\", \"red\", \"red\", \"red\", \"red\", \"red\", \"red\", \"green\", \"green\", \"green\", \"green\", \"green\", \"green\", \"green\", \"green\", \"green\", \"green\", \"green\", \"green\"]}, \"orientation\": \"h\", \"type\": \"bar\", \"x\": [0.4009304588919784, 0.3659870031901299, 0.2607126116595646, 0.2335859038624945, 0.1693692741068344, 0.0940233376313091, 0.0759342629772597, 0.0196647372390481, 0.0162606210424342, -0.0206098580790168, -0.0684114579565082, -0.119434588642065, -0.1244213558316654, -0.1455854294502505, -0.1592544836126045, -0.2005712829865721, -0.2652259558988332, -0.2957751149752269, -0.3524732207147308, -0.5242417911926396, -0.6395753443917318], \"y\": [\"Events\", \"Entertainment\", \"Outdoor\", \"Indoor\", \"Gatherings\", \"Stayhome\", \"Secondary Education\", \"Sports\", \"MassGather50\", \"Primary Education\", \"Higher Education\", \"Shops\", \"Daycare\", \"Religion\", \"Vaccinations\", \"Transport\", \"Masks\", \"Telework\", \"Restaurants/Cafes\", \"Workplace\", \"MassGatherAll\"]}],                        {\"template\": {\"data\": {\"bar\": [{\"error_x\": {\"color\": \"#2a3f5f\"}, \"error_y\": {\"color\": \"#2a3f5f\"}, \"marker\": {\"line\": {\"color\": \"#E5ECF6\", \"width\": 0.5}}, \"type\": \"bar\"}], \"barpolar\": [{\"marker\": {\"line\": {\"color\": \"#E5ECF6\", \"width\": 0.5}}, \"type\": \"barpolar\"}], \"carpet\": [{\"aaxis\": {\"endlinecolor\": \"#2a3f5f\", \"gridcolor\": \"white\", \"linecolor\": \"white\", \"minorgridcolor\": \"white\", \"startlinecolor\": \"#2a3f5f\"}, \"baxis\": {\"endlinecolor\": \"#2a3f5f\", \"gridcolor\": \"white\", \"linecolor\": \"white\", \"minorgridcolor\": \"white\", \"startlinecolor\": \"#2a3f5f\"}, \"type\": \"carpet\"}], \"choropleth\": [{\"colorbar\": {\"outlinewidth\": 0, \"ticks\": \"\"}, \"type\": \"choropleth\"}], \"contour\": [{\"colorbar\": {\"outlinewidth\": 0, \"ticks\": \"\"}, \"colorscale\": [[0.0, \"#0d0887\"], [0.1111111111111111, \"#46039f\"], [0.2222222222222222, \"#7201a8\"], [0.3333333333333333, \"#9c179e\"], [0.4444444444444444, \"#bd3786\"], [0.5555555555555556, \"#d8576b\"], [0.6666666666666666, \"#ed7953\"], [0.7777777777777778, \"#fb9f3a\"], [0.8888888888888888, \"#fdca26\"], [1.0, \"#f0f921\"]], \"type\": \"contour\"}], \"contourcarpet\": [{\"colorbar\": {\"outlinewidth\": 0, \"ticks\": \"\"}, \"type\": \"contourcarpet\"}], \"heatmap\": [{\"colorbar\": {\"outlinewidth\": 0, \"ticks\": \"\"}, \"colorscale\": [[0.0, \"#0d0887\"], [0.1111111111111111, \"#46039f\"], [0.2222222222222222, \"#7201a8\"], [0.3333333333333333, \"#9c179e\"], [0.4444444444444444, \"#bd3786\"], [0.5555555555555556, \"#d8576b\"], [0.6666666666666666, \"#ed7953\"], [0.7777777777777778, \"#fb9f3a\"], [0.8888888888888888, \"#fdca26\"], [1.0, \"#f0f921\"]], \"type\": \"heatmap\"}], \"heatmapgl\": [{\"colorbar\": {\"outlinewidth\": 0, \"ticks\": \"\"}, \"colorscale\": [[0.0, \"#0d0887\"], [0.1111111111111111, \"#46039f\"], [0.2222222222222222, \"#7201a8\"], [0.3333333333333333, \"#9c179e\"], [0.4444444444444444, \"#bd3786\"], [0.5555555555555556, \"#d8576b\"], [0.6666666666666666, \"#ed7953\"], [0.7777777777777778, \"#fb9f3a\"], [0.8888888888888888, \"#fdca26\"], [1.0, \"#f0f921\"]], \"type\": \"heatmapgl\"}], \"histogram\": [{\"marker\": {\"colorbar\": {\"outlinewidth\": 0, \"ticks\": \"\"}}, \"type\": \"histogram\"}], \"histogram2d\": [{\"colorbar\": {\"outlinewidth\": 0, \"ticks\": \"\"}, \"colorscale\": [[0.0, \"#0d0887\"], [0.1111111111111111, \"#46039f\"], [0.2222222222222222, \"#7201a8\"], [0.3333333333333333, \"#9c179e\"], [0.4444444444444444, \"#bd3786\"], [0.5555555555555556, \"#d8576b\"], [0.6666666666666666, \"#ed7953\"], [0.7777777777777778, \"#fb9f3a\"], [0.8888888888888888, \"#fdca26\"], [1.0, \"#f0f921\"]], \"type\": \"histogram2d\"}], \"histogram2dcontour\": [{\"colorbar\": {\"outlinewidth\": 0, \"ticks\": \"\"}, \"colorscale\": [[0.0, \"#0d0887\"], [0.1111111111111111, \"#46039f\"], [0.2222222222222222, \"#7201a8\"], [0.3333333333333333, \"#9c179e\"], [0.4444444444444444, \"#bd3786\"], [0.5555555555555556, \"#d8576b\"], [0.6666666666666666, \"#ed7953\"], [0.7777777777777778, \"#fb9f3a\"], [0.8888888888888888, \"#fdca26\"], [1.0, \"#f0f921\"]], \"type\": \"histogram2dcontour\"}], \"mesh3d\": [{\"colorbar\": {\"outlinewidth\": 0, \"ticks\": \"\"}, \"type\": \"mesh3d\"}], \"parcoords\": [{\"line\": {\"colorbar\": {\"outlinewidth\": 0, \"ticks\": \"\"}}, \"type\": \"parcoords\"}], \"pie\": [{\"automargin\": true, \"type\": \"pie\"}], \"scatter\": [{\"marker\": {\"colorbar\": {\"outlinewidth\": 0, \"ticks\": \"\"}}, \"type\": \"scatter\"}], \"scatter3d\": [{\"line\": {\"colorbar\": {\"outlinewidth\": 0, \"ticks\": \"\"}}, \"marker\": {\"colorbar\": {\"outlinewidth\": 0, \"ticks\": \"\"}}, \"type\": \"scatter3d\"}], \"scattercarpet\": [{\"marker\": {\"colorbar\": {\"outlinewidth\": 0, \"ticks\": \"\"}}, \"type\": \"scattercarpet\"}], \"scattergeo\": [{\"marker\": {\"colorbar\": {\"outlinewidth\": 0, \"ticks\": \"\"}}, \"type\": \"scattergeo\"}], \"scattergl\": [{\"marker\": {\"colorbar\": {\"outlinewidth\": 0, \"ticks\": \"\"}}, \"type\": \"scattergl\"}], \"scattermapbox\": [{\"marker\": {\"colorbar\": {\"outlinewidth\": 0, \"ticks\": \"\"}}, \"type\": \"scattermapbox\"}], \"scatterpolar\": [{\"marker\": {\"colorbar\": {\"outlinewidth\": 0, \"ticks\": \"\"}}, \"type\": \"scatterpolar\"}], \"scatterpolargl\": [{\"marker\": {\"colorbar\": {\"outlinewidth\": 0, \"ticks\": \"\"}}, \"type\": \"scatterpolargl\"}], \"scatterternary\": [{\"marker\": {\"colorbar\": {\"outlinewidth\": 0, \"ticks\": \"\"}}, \"type\": \"scatterternary\"}], \"surface\": [{\"colorbar\": {\"outlinewidth\": 0, \"ticks\": \"\"}, \"colorscale\": [[0.0, \"#0d0887\"], [0.1111111111111111, \"#46039f\"], [0.2222222222222222, \"#7201a8\"], [0.3333333333333333, \"#9c179e\"], [0.4444444444444444, \"#bd3786\"], [0.5555555555555556, \"#d8576b\"], [0.6666666666666666, \"#ed7953\"], [0.7777777777777778, \"#fb9f3a\"], [0.8888888888888888, \"#fdca26\"], [1.0, \"#f0f921\"]], \"type\": \"surface\"}], \"table\": [{\"cells\": {\"fill\": {\"color\": \"#EBF0F8\"}, \"line\": {\"color\": \"white\"}}, \"header\": {\"fill\": {\"color\": \"#C8D4E3\"}, \"line\": {\"color\": \"white\"}}, \"type\": \"table\"}]}, \"layout\": {\"annotationdefaults\": {\"arrowcolor\": \"#2a3f5f\", \"arrowhead\": 0, \"arrowwidth\": 1}, \"autotypenumbers\": \"strict\", \"coloraxis\": {\"colorbar\": {\"outlinewidth\": 0, \"ticks\": \"\"}}, \"colorscale\": {\"diverging\": [[0, \"#8e0152\"], [0.1, \"#c51b7d\"], [0.2, \"#de77ae\"], [0.3, \"#f1b6da\"], [0.4, \"#fde0ef\"], [0.5, \"#f7f7f7\"], [0.6, \"#e6f5d0\"], [0.7, \"#b8e186\"], [0.8, \"#7fbc41\"], [0.9, \"#4d9221\"], [1, \"#276419\"]], \"sequential\": [[0.0, \"#0d0887\"], [0.1111111111111111, \"#46039f\"], [0.2222222222222222, \"#7201a8\"], [0.3333333333333333, \"#9c179e\"], [0.4444444444444444, \"#bd3786\"], [0.5555555555555556, \"#d8576b\"], [0.6666666666666666, \"#ed7953\"], [0.7777777777777778, \"#fb9f3a\"], [0.8888888888888888, \"#fdca26\"], [1.0, \"#f0f921\"]], \"sequentialminus\": [[0.0, \"#0d0887\"], [0.1111111111111111, \"#46039f\"], [0.2222222222222222, \"#7201a8\"], [0.3333333333333333, \"#9c179e\"], [0.4444444444444444, \"#bd3786\"], [0.5555555555555556, \"#d8576b\"], [0.6666666666666666, \"#ed7953\"], [0.7777777777777778, \"#fb9f3a\"], [0.8888888888888888, \"#fdca26\"], [1.0, \"#f0f921\"]]}, \"colorway\": [\"#636efa\", \"#EF553B\", \"#00cc96\", \"#ab63fa\", \"#FFA15A\", \"#19d3f3\", \"#FF6692\", \"#B6E880\", \"#FF97FF\", \"#FECB52\"], \"font\": {\"color\": \"#2a3f5f\"}, \"geo\": {\"bgcolor\": \"white\", \"lakecolor\": \"white\", \"landcolor\": \"#E5ECF6\", \"showlakes\": true, \"showland\": true, \"subunitcolor\": \"white\"}, \"hoverlabel\": {\"align\": \"left\"}, \"hovermode\": \"closest\", \"mapbox\": {\"style\": \"light\"}, \"paper_bgcolor\": \"white\", \"plot_bgcolor\": \"#E5ECF6\", \"polar\": {\"angularaxis\": {\"gridcolor\": \"white\", \"linecolor\": \"white\", \"ticks\": \"\"}, \"bgcolor\": \"#E5ECF6\", \"radialaxis\": {\"gridcolor\": \"white\", \"linecolor\": \"white\", \"ticks\": \"\"}}, \"scene\": {\"xaxis\": {\"backgroundcolor\": \"#E5ECF6\", \"gridcolor\": \"white\", \"gridwidth\": 2, \"linecolor\": \"white\", \"showbackground\": true, \"ticks\": \"\", \"zerolinecolor\": \"white\"}, \"yaxis\": {\"backgroundcolor\": \"#E5ECF6\", \"gridcolor\": \"white\", \"gridwidth\": 2, \"linecolor\": \"white\", \"showbackground\": true, \"ticks\": \"\", \"zerolinecolor\": \"white\"}, \"zaxis\": {\"backgroundcolor\": \"#E5ECF6\", \"gridcolor\": \"white\", \"gridwidth\": 2, \"linecolor\": \"white\", \"showbackground\": true, \"ticks\": \"\", \"zerolinecolor\": \"white\"}}, \"shapedefaults\": {\"line\": {\"color\": \"#2a3f5f\"}}, \"ternary\": {\"aaxis\": {\"gridcolor\": \"white\", \"linecolor\": \"white\", \"ticks\": \"\"}, \"baxis\": {\"gridcolor\": \"white\", \"linecolor\": \"white\", \"ticks\": \"\"}, \"bgcolor\": \"#E5ECF6\", \"caxis\": {\"gridcolor\": \"white\", \"linecolor\": \"white\", \"ticks\": \"\"}}, \"title\": {\"x\": 0.05}, \"xaxis\": {\"automargin\": true, \"gridcolor\": \"white\", \"linecolor\": \"white\", \"ticks\": \"\", \"title\": {\"standoff\": 15}, \"zerolinecolor\": \"white\", \"zerolinewidth\": 2}, \"yaxis\": {\"automargin\": true, \"gridcolor\": \"white\", \"linecolor\": \"white\", \"ticks\": \"\", \"title\": {\"standoff\": 15}, \"zerolinecolor\": \"white\", \"zerolinewidth\": 2}}}, \"xaxis\": {\"title\": {\"text\": \"\\u2206Rt\"}}, \"yaxis\": {\"title\": {\"text\": \"Intervention measure groups (L3)\"}}},                        {\"responsive\": true}                    ).then(function(){\n",
       "                            \n",
       "var gd = document.getElementById('bf4e8d3a-60fb-4c54-a242-79da0eebd3cf');\n",
       "var x = new MutationObserver(function (mutations, observer) {{\n",
       "        var display = window.getComputedStyle(gd).display;\n",
       "        if (!display || display === 'none') {{\n",
       "            console.log([gd, 'removed!']);\n",
       "            Plotly.purge(gd);\n",
       "            observer.disconnect();\n",
       "        }}\n",
       "}});\n",
       "\n",
       "// Listen for the removal of the full notebook cells\n",
       "var notebookContainer = gd.closest('#notebook-container');\n",
       "if (notebookContainer) {{\n",
       "    x.observe(notebookContainer, {childList: true});\n",
       "}}\n",
       "\n",
       "// Listen for the clearing of the current output cell\n",
       "var outputEl = gd.closest('.output');\n",
       "if (outputEl) {{\n",
       "    x.observe(outputEl, {childList: true});\n",
       "}}\n",
       "\n",
       "                        })                };                });            </script>        </div>"
      ]
     },
     "metadata": {},
     "output_type": "display_data"
    }
   ],
   "source": [
    "plot = merged[['median_LASSO', 'Measure', 'high_LASSO', 'low_LASSO']]\n",
    "plot = plot.sort_values(by='median_LASSO', ascending=False)\n",
    "plot['colors'] = ['red'] * sum(plot['median_LASSO']>0) + ['green'] * sum(plot['median_LASSO']<=0)\n",
    "\n",
    "fig = go.Figure(go.Bar(\n",
    "            x=plot['median_LASSO'],\n",
    "            y=plot['Measure'],\n",
    "            orientation='h',\n",
    "            marker_color=plot['colors'],\n",
    "            error_x=dict(\n",
    "                type='data',\n",
    "                symmetric=False,\n",
    "                array=abs(plot['median_LASSO']-plot['high_LASSO']), \n",
    "                arrayminus=plot['median_LASSO']- plot['low_LASSO'])))\n",
    "fig.update_layout(\n",
    "    xaxis_title=\"∆Rt\",\n",
    "    yaxis_title=\"Intervention measure groups (L3)\")\n",
    "fig.show()\n"
   ]
  },
  {
   "cell_type": "code",
   "execution_count": 94,
   "metadata": {},
   "outputs": [
    {
     "data": {
      "application/vnd.plotly.v1+json": {
       "config": {
        "plotlyServerURL": "https://plot.ly"
       },
       "data": [
        {
         "error_x": {
          "array": [
           0.0037994267575933998,
           0.0073700056702305,
           0.0094634238722309,
           0.011382488296120801,
           0.0345983517000678,
           0.0186321070303869,
           0.017553018377941498,
           0.0221275817619204,
           0.0183079426392515,
           0.018789633102059798,
           0.028521319186239596,
           0.028295130877092,
           0.0836142081982378,
           0.0809778272808809,
           0.09435475936970761,
           0.15960003252851399,
           0.3154032464429703,
           1.0186414210784256,
           0.6256773202433944,
           1.064791742641591,
           1.2518345665856268
          ],
          "arrayminus": [
           0.0058460559261677,
           0.0059920933204052,
           0.0058947476237557,
           0.0177167934681923,
           0.013944903819866399,
           0.0128870593236061,
           0.019795947809670502,
           0.0079579973612438,
           0.0131685921181043,
           0.0138485463557067,
           0.0149743932511349,
           0.012527432580777799,
           0.0336404775668541,
           0.023783690261922,
           0.029745617485342702,
           0.0858555289896687,
           0.0700326541622388,
           0.1940509413856359,
           0.2116297709290659,
           0.2397284022846185,
           0.2509827816172891
          ],
          "symmetric": false,
          "type": "data"
         },
         "marker": {
          "color": [
           "orange",
           "orange",
           "orange",
           "orange",
           "orange",
           "orange",
           "orange",
           "orange",
           "orange",
           "orange",
           "orange",
           "orange",
           "orange",
           "green",
           "green",
           "green",
           "green",
           "green",
           "green",
           "green",
           "green"
          ]
         },
         "orientation": "h",
         "type": "bar",
         "x": [
          -0.000188590698636,
          0.0008470232343814,
          0.0009205216191911,
          0.0010618194769473,
          0.0017213588074668,
          0.0018093713849857,
          0.0020056929214514,
          0.0020122152728364,
          0.0022440025642244,
          0.002696680224775,
          0.005801791888278,
          0.0067114066650734,
          0.0204842639035885,
          0.0326214516698727,
          0.037494763321446,
          0.0964893023397149,
          0.1100805985329396,
          0.259556325130982,
          0.27811523858748,
          0.2936880961397557,
          0.3203634337131931
         ],
         "y": [
          "Indoor",
          "Shops",
          "Religion",
          "Gatherings",
          "Transport",
          "Workplace",
          "Secondary Education",
          "Events",
          "Primary Education",
          "MassGather50",
          "Higher Education",
          "Stayhome",
          "Masks",
          "Daycare",
          "Vaccinations",
          "Outdoor",
          "Sports",
          "Telework",
          "MassGatherAll",
          "Entertainment",
          "Restaurants/Cafes"
         ]
        }
       ],
       "layout": {
        "template": {
         "data": {
          "bar": [
           {
            "error_x": {
             "color": "#2a3f5f"
            },
            "error_y": {
             "color": "#2a3f5f"
            },
            "marker": {
             "line": {
              "color": "#E5ECF6",
              "width": 0.5
             }
            },
            "type": "bar"
           }
          ],
          "barpolar": [
           {
            "marker": {
             "line": {
              "color": "#E5ECF6",
              "width": 0.5
             }
            },
            "type": "barpolar"
           }
          ],
          "carpet": [
           {
            "aaxis": {
             "endlinecolor": "#2a3f5f",
             "gridcolor": "white",
             "linecolor": "white",
             "minorgridcolor": "white",
             "startlinecolor": "#2a3f5f"
            },
            "baxis": {
             "endlinecolor": "#2a3f5f",
             "gridcolor": "white",
             "linecolor": "white",
             "minorgridcolor": "white",
             "startlinecolor": "#2a3f5f"
            },
            "type": "carpet"
           }
          ],
          "choropleth": [
           {
            "colorbar": {
             "outlinewidth": 0,
             "ticks": ""
            },
            "type": "choropleth"
           }
          ],
          "contour": [
           {
            "colorbar": {
             "outlinewidth": 0,
             "ticks": ""
            },
            "colorscale": [
             [
              0,
              "#0d0887"
             ],
             [
              0.1111111111111111,
              "#46039f"
             ],
             [
              0.2222222222222222,
              "#7201a8"
             ],
             [
              0.3333333333333333,
              "#9c179e"
             ],
             [
              0.4444444444444444,
              "#bd3786"
             ],
             [
              0.5555555555555556,
              "#d8576b"
             ],
             [
              0.6666666666666666,
              "#ed7953"
             ],
             [
              0.7777777777777778,
              "#fb9f3a"
             ],
             [
              0.8888888888888888,
              "#fdca26"
             ],
             [
              1,
              "#f0f921"
             ]
            ],
            "type": "contour"
           }
          ],
          "contourcarpet": [
           {
            "colorbar": {
             "outlinewidth": 0,
             "ticks": ""
            },
            "type": "contourcarpet"
           }
          ],
          "heatmap": [
           {
            "colorbar": {
             "outlinewidth": 0,
             "ticks": ""
            },
            "colorscale": [
             [
              0,
              "#0d0887"
             ],
             [
              0.1111111111111111,
              "#46039f"
             ],
             [
              0.2222222222222222,
              "#7201a8"
             ],
             [
              0.3333333333333333,
              "#9c179e"
             ],
             [
              0.4444444444444444,
              "#bd3786"
             ],
             [
              0.5555555555555556,
              "#d8576b"
             ],
             [
              0.6666666666666666,
              "#ed7953"
             ],
             [
              0.7777777777777778,
              "#fb9f3a"
             ],
             [
              0.8888888888888888,
              "#fdca26"
             ],
             [
              1,
              "#f0f921"
             ]
            ],
            "type": "heatmap"
           }
          ],
          "heatmapgl": [
           {
            "colorbar": {
             "outlinewidth": 0,
             "ticks": ""
            },
            "colorscale": [
             [
              0,
              "#0d0887"
             ],
             [
              0.1111111111111111,
              "#46039f"
             ],
             [
              0.2222222222222222,
              "#7201a8"
             ],
             [
              0.3333333333333333,
              "#9c179e"
             ],
             [
              0.4444444444444444,
              "#bd3786"
             ],
             [
              0.5555555555555556,
              "#d8576b"
             ],
             [
              0.6666666666666666,
              "#ed7953"
             ],
             [
              0.7777777777777778,
              "#fb9f3a"
             ],
             [
              0.8888888888888888,
              "#fdca26"
             ],
             [
              1,
              "#f0f921"
             ]
            ],
            "type": "heatmapgl"
           }
          ],
          "histogram": [
           {
            "marker": {
             "colorbar": {
              "outlinewidth": 0,
              "ticks": ""
             }
            },
            "type": "histogram"
           }
          ],
          "histogram2d": [
           {
            "colorbar": {
             "outlinewidth": 0,
             "ticks": ""
            },
            "colorscale": [
             [
              0,
              "#0d0887"
             ],
             [
              0.1111111111111111,
              "#46039f"
             ],
             [
              0.2222222222222222,
              "#7201a8"
             ],
             [
              0.3333333333333333,
              "#9c179e"
             ],
             [
              0.4444444444444444,
              "#bd3786"
             ],
             [
              0.5555555555555556,
              "#d8576b"
             ],
             [
              0.6666666666666666,
              "#ed7953"
             ],
             [
              0.7777777777777778,
              "#fb9f3a"
             ],
             [
              0.8888888888888888,
              "#fdca26"
             ],
             [
              1,
              "#f0f921"
             ]
            ],
            "type": "histogram2d"
           }
          ],
          "histogram2dcontour": [
           {
            "colorbar": {
             "outlinewidth": 0,
             "ticks": ""
            },
            "colorscale": [
             [
              0,
              "#0d0887"
             ],
             [
              0.1111111111111111,
              "#46039f"
             ],
             [
              0.2222222222222222,
              "#7201a8"
             ],
             [
              0.3333333333333333,
              "#9c179e"
             ],
             [
              0.4444444444444444,
              "#bd3786"
             ],
             [
              0.5555555555555556,
              "#d8576b"
             ],
             [
              0.6666666666666666,
              "#ed7953"
             ],
             [
              0.7777777777777778,
              "#fb9f3a"
             ],
             [
              0.8888888888888888,
              "#fdca26"
             ],
             [
              1,
              "#f0f921"
             ]
            ],
            "type": "histogram2dcontour"
           }
          ],
          "mesh3d": [
           {
            "colorbar": {
             "outlinewidth": 0,
             "ticks": ""
            },
            "type": "mesh3d"
           }
          ],
          "parcoords": [
           {
            "line": {
             "colorbar": {
              "outlinewidth": 0,
              "ticks": ""
             }
            },
            "type": "parcoords"
           }
          ],
          "pie": [
           {
            "automargin": true,
            "type": "pie"
           }
          ],
          "scatter": [
           {
            "marker": {
             "colorbar": {
              "outlinewidth": 0,
              "ticks": ""
             }
            },
            "type": "scatter"
           }
          ],
          "scatter3d": [
           {
            "line": {
             "colorbar": {
              "outlinewidth": 0,
              "ticks": ""
             }
            },
            "marker": {
             "colorbar": {
              "outlinewidth": 0,
              "ticks": ""
             }
            },
            "type": "scatter3d"
           }
          ],
          "scattercarpet": [
           {
            "marker": {
             "colorbar": {
              "outlinewidth": 0,
              "ticks": ""
             }
            },
            "type": "scattercarpet"
           }
          ],
          "scattergeo": [
           {
            "marker": {
             "colorbar": {
              "outlinewidth": 0,
              "ticks": ""
             }
            },
            "type": "scattergeo"
           }
          ],
          "scattergl": [
           {
            "marker": {
             "colorbar": {
              "outlinewidth": 0,
              "ticks": ""
             }
            },
            "type": "scattergl"
           }
          ],
          "scattermapbox": [
           {
            "marker": {
             "colorbar": {
              "outlinewidth": 0,
              "ticks": ""
             }
            },
            "type": "scattermapbox"
           }
          ],
          "scatterpolar": [
           {
            "marker": {
             "colorbar": {
              "outlinewidth": 0,
              "ticks": ""
             }
            },
            "type": "scatterpolar"
           }
          ],
          "scatterpolargl": [
           {
            "marker": {
             "colorbar": {
              "outlinewidth": 0,
              "ticks": ""
             }
            },
            "type": "scatterpolargl"
           }
          ],
          "scatterternary": [
           {
            "marker": {
             "colorbar": {
              "outlinewidth": 0,
              "ticks": ""
             }
            },
            "type": "scatterternary"
           }
          ],
          "surface": [
           {
            "colorbar": {
             "outlinewidth": 0,
             "ticks": ""
            },
            "colorscale": [
             [
              0,
              "#0d0887"
             ],
             [
              0.1111111111111111,
              "#46039f"
             ],
             [
              0.2222222222222222,
              "#7201a8"
             ],
             [
              0.3333333333333333,
              "#9c179e"
             ],
             [
              0.4444444444444444,
              "#bd3786"
             ],
             [
              0.5555555555555556,
              "#d8576b"
             ],
             [
              0.6666666666666666,
              "#ed7953"
             ],
             [
              0.7777777777777778,
              "#fb9f3a"
             ],
             [
              0.8888888888888888,
              "#fdca26"
             ],
             [
              1,
              "#f0f921"
             ]
            ],
            "type": "surface"
           }
          ],
          "table": [
           {
            "cells": {
             "fill": {
              "color": "#EBF0F8"
             },
             "line": {
              "color": "white"
             }
            },
            "header": {
             "fill": {
              "color": "#C8D4E3"
             },
             "line": {
              "color": "white"
             }
            },
            "type": "table"
           }
          ]
         },
         "layout": {
          "annotationdefaults": {
           "arrowcolor": "#2a3f5f",
           "arrowhead": 0,
           "arrowwidth": 1
          },
          "autotypenumbers": "strict",
          "coloraxis": {
           "colorbar": {
            "outlinewidth": 0,
            "ticks": ""
           }
          },
          "colorscale": {
           "diverging": [
            [
             0,
             "#8e0152"
            ],
            [
             0.1,
             "#c51b7d"
            ],
            [
             0.2,
             "#de77ae"
            ],
            [
             0.3,
             "#f1b6da"
            ],
            [
             0.4,
             "#fde0ef"
            ],
            [
             0.5,
             "#f7f7f7"
            ],
            [
             0.6,
             "#e6f5d0"
            ],
            [
             0.7,
             "#b8e186"
            ],
            [
             0.8,
             "#7fbc41"
            ],
            [
             0.9,
             "#4d9221"
            ],
            [
             1,
             "#276419"
            ]
           ],
           "sequential": [
            [
             0,
             "#0d0887"
            ],
            [
             0.1111111111111111,
             "#46039f"
            ],
            [
             0.2222222222222222,
             "#7201a8"
            ],
            [
             0.3333333333333333,
             "#9c179e"
            ],
            [
             0.4444444444444444,
             "#bd3786"
            ],
            [
             0.5555555555555556,
             "#d8576b"
            ],
            [
             0.6666666666666666,
             "#ed7953"
            ],
            [
             0.7777777777777778,
             "#fb9f3a"
            ],
            [
             0.8888888888888888,
             "#fdca26"
            ],
            [
             1,
             "#f0f921"
            ]
           ],
           "sequentialminus": [
            [
             0,
             "#0d0887"
            ],
            [
             0.1111111111111111,
             "#46039f"
            ],
            [
             0.2222222222222222,
             "#7201a8"
            ],
            [
             0.3333333333333333,
             "#9c179e"
            ],
            [
             0.4444444444444444,
             "#bd3786"
            ],
            [
             0.5555555555555556,
             "#d8576b"
            ],
            [
             0.6666666666666666,
             "#ed7953"
            ],
            [
             0.7777777777777778,
             "#fb9f3a"
            ],
            [
             0.8888888888888888,
             "#fdca26"
            ],
            [
             1,
             "#f0f921"
            ]
           ]
          },
          "colorway": [
           "#636efa",
           "#EF553B",
           "#00cc96",
           "#ab63fa",
           "#FFA15A",
           "#19d3f3",
           "#FF6692",
           "#B6E880",
           "#FF97FF",
           "#FECB52"
          ],
          "font": {
           "color": "#2a3f5f"
          },
          "geo": {
           "bgcolor": "white",
           "lakecolor": "white",
           "landcolor": "#E5ECF6",
           "showlakes": true,
           "showland": true,
           "subunitcolor": "white"
          },
          "hoverlabel": {
           "align": "left"
          },
          "hovermode": "closest",
          "mapbox": {
           "style": "light"
          },
          "paper_bgcolor": "white",
          "plot_bgcolor": "#E5ECF6",
          "polar": {
           "angularaxis": {
            "gridcolor": "white",
            "linecolor": "white",
            "ticks": ""
           },
           "bgcolor": "#E5ECF6",
           "radialaxis": {
            "gridcolor": "white",
            "linecolor": "white",
            "ticks": ""
           }
          },
          "scene": {
           "xaxis": {
            "backgroundcolor": "#E5ECF6",
            "gridcolor": "white",
            "gridwidth": 2,
            "linecolor": "white",
            "showbackground": true,
            "ticks": "",
            "zerolinecolor": "white"
           },
           "yaxis": {
            "backgroundcolor": "#E5ECF6",
            "gridcolor": "white",
            "gridwidth": 2,
            "linecolor": "white",
            "showbackground": true,
            "ticks": "",
            "zerolinecolor": "white"
           },
           "zaxis": {
            "backgroundcolor": "#E5ECF6",
            "gridcolor": "white",
            "gridwidth": 2,
            "linecolor": "white",
            "showbackground": true,
            "ticks": "",
            "zerolinecolor": "white"
           }
          },
          "shapedefaults": {
           "line": {
            "color": "#2a3f5f"
           }
          },
          "ternary": {
           "aaxis": {
            "gridcolor": "white",
            "linecolor": "white",
            "ticks": ""
           },
           "baxis": {
            "gridcolor": "white",
            "linecolor": "white",
            "ticks": ""
           },
           "bgcolor": "#E5ECF6",
           "caxis": {
            "gridcolor": "white",
            "linecolor": "white",
            "ticks": ""
           }
          },
          "title": {
           "x": 0.05
          },
          "xaxis": {
           "automargin": true,
           "gridcolor": "white",
           "linecolor": "white",
           "ticks": "",
           "title": {
            "standoff": 15
           },
           "zerolinecolor": "white",
           "zerolinewidth": 2
          },
          "yaxis": {
           "automargin": true,
           "gridcolor": "white",
           "linecolor": "white",
           "ticks": "",
           "title": {
            "standoff": 15
           },
           "zerolinecolor": "white",
           "zerolinewidth": 2
          }
         }
        },
        "xaxis": {
         "range": [
          -0.1,
          0.5
         ],
         "title": {
          "text": "Permutation importance"
         }
        },
        "yaxis": {
         "title": {
          "text": "Intervention measure groups (L3)"
         }
        }
       }
      },
      "text/html": [
       "<div>                            <div id=\"8539f482-45d2-441e-afc7-ee818ab858bc\" class=\"plotly-graph-div\" style=\"height:525px; width:100%;\"></div>            <script type=\"text/javascript\">                require([\"plotly\"], function(Plotly) {                    window.PLOTLYENV=window.PLOTLYENV || {};                                    if (document.getElementById(\"8539f482-45d2-441e-afc7-ee818ab858bc\")) {                    Plotly.newPlot(                        \"8539f482-45d2-441e-afc7-ee818ab858bc\",                        [{\"error_x\": {\"array\": [0.0037994267575933998, 0.0073700056702305, 0.0094634238722309, 0.011382488296120801, 0.0345983517000678, 0.0186321070303869, 0.017553018377941498, 0.0221275817619204, 0.0183079426392515, 0.018789633102059798, 0.028521319186239596, 0.028295130877092, 0.0836142081982378, 0.0809778272808809, 0.09435475936970761, 0.15960003252851399, 0.3154032464429703, 1.0186414210784256, 0.6256773202433944, 1.064791742641591, 1.2518345665856268], \"arrayminus\": [0.0058460559261677, 0.0059920933204052, 0.0058947476237557, 0.0177167934681923, 0.013944903819866399, 0.0128870593236061, 0.019795947809670502, 0.0079579973612438, 0.0131685921181043, 0.0138485463557067, 0.0149743932511349, 0.012527432580777799, 0.0336404775668541, 0.023783690261922, 0.029745617485342702, 0.0858555289896687, 0.0700326541622388, 0.1940509413856359, 0.2116297709290659, 0.2397284022846185, 0.2509827816172891], \"symmetric\": false, \"type\": \"data\"}, \"marker\": {\"color\": [\"orange\", \"orange\", \"orange\", \"orange\", \"orange\", \"orange\", \"orange\", \"orange\", \"orange\", \"orange\", \"orange\", \"orange\", \"orange\", \"green\", \"green\", \"green\", \"green\", \"green\", \"green\", \"green\", \"green\"]}, \"orientation\": \"h\", \"type\": \"bar\", \"x\": [-0.000188590698636, 0.0008470232343814, 0.0009205216191911, 0.0010618194769473, 0.0017213588074668, 0.0018093713849857, 0.0020056929214514, 0.0020122152728364, 0.0022440025642244, 0.002696680224775, 0.005801791888278, 0.0067114066650734, 0.0204842639035885, 0.0326214516698727, 0.037494763321446, 0.0964893023397149, 0.1100805985329396, 0.259556325130982, 0.27811523858748, 0.2936880961397557, 0.3203634337131931], \"y\": [\"Indoor\", \"Shops\", \"Religion\", \"Gatherings\", \"Transport\", \"Workplace\", \"Secondary Education\", \"Events\", \"Primary Education\", \"MassGather50\", \"Higher Education\", \"Stayhome\", \"Masks\", \"Daycare\", \"Vaccinations\", \"Outdoor\", \"Sports\", \"Telework\", \"MassGatherAll\", \"Entertainment\", \"Restaurants/Cafes\"]}],                        {\"template\": {\"data\": {\"bar\": [{\"error_x\": {\"color\": \"#2a3f5f\"}, \"error_y\": {\"color\": \"#2a3f5f\"}, \"marker\": {\"line\": {\"color\": \"#E5ECF6\", \"width\": 0.5}}, \"type\": \"bar\"}], \"barpolar\": [{\"marker\": {\"line\": {\"color\": \"#E5ECF6\", \"width\": 0.5}}, \"type\": \"barpolar\"}], \"carpet\": [{\"aaxis\": {\"endlinecolor\": \"#2a3f5f\", \"gridcolor\": \"white\", \"linecolor\": \"white\", \"minorgridcolor\": \"white\", \"startlinecolor\": \"#2a3f5f\"}, \"baxis\": {\"endlinecolor\": \"#2a3f5f\", \"gridcolor\": \"white\", \"linecolor\": \"white\", \"minorgridcolor\": \"white\", \"startlinecolor\": \"#2a3f5f\"}, \"type\": \"carpet\"}], \"choropleth\": [{\"colorbar\": {\"outlinewidth\": 0, \"ticks\": \"\"}, \"type\": \"choropleth\"}], \"contour\": [{\"colorbar\": {\"outlinewidth\": 0, \"ticks\": \"\"}, \"colorscale\": [[0.0, \"#0d0887\"], [0.1111111111111111, \"#46039f\"], [0.2222222222222222, \"#7201a8\"], [0.3333333333333333, \"#9c179e\"], [0.4444444444444444, \"#bd3786\"], [0.5555555555555556, \"#d8576b\"], [0.6666666666666666, \"#ed7953\"], [0.7777777777777778, \"#fb9f3a\"], [0.8888888888888888, \"#fdca26\"], [1.0, \"#f0f921\"]], \"type\": \"contour\"}], \"contourcarpet\": [{\"colorbar\": {\"outlinewidth\": 0, \"ticks\": \"\"}, \"type\": \"contourcarpet\"}], \"heatmap\": [{\"colorbar\": {\"outlinewidth\": 0, \"ticks\": \"\"}, \"colorscale\": [[0.0, \"#0d0887\"], [0.1111111111111111, \"#46039f\"], [0.2222222222222222, \"#7201a8\"], [0.3333333333333333, \"#9c179e\"], [0.4444444444444444, \"#bd3786\"], [0.5555555555555556, \"#d8576b\"], [0.6666666666666666, \"#ed7953\"], [0.7777777777777778, \"#fb9f3a\"], [0.8888888888888888, \"#fdca26\"], [1.0, \"#f0f921\"]], \"type\": \"heatmap\"}], \"heatmapgl\": [{\"colorbar\": {\"outlinewidth\": 0, \"ticks\": \"\"}, \"colorscale\": [[0.0, \"#0d0887\"], [0.1111111111111111, \"#46039f\"], [0.2222222222222222, \"#7201a8\"], [0.3333333333333333, \"#9c179e\"], [0.4444444444444444, \"#bd3786\"], [0.5555555555555556, \"#d8576b\"], [0.6666666666666666, \"#ed7953\"], [0.7777777777777778, \"#fb9f3a\"], [0.8888888888888888, \"#fdca26\"], [1.0, \"#f0f921\"]], \"type\": \"heatmapgl\"}], \"histogram\": [{\"marker\": {\"colorbar\": {\"outlinewidth\": 0, \"ticks\": \"\"}}, \"type\": \"histogram\"}], \"histogram2d\": [{\"colorbar\": {\"outlinewidth\": 0, \"ticks\": \"\"}, \"colorscale\": [[0.0, \"#0d0887\"], [0.1111111111111111, \"#46039f\"], [0.2222222222222222, \"#7201a8\"], [0.3333333333333333, \"#9c179e\"], [0.4444444444444444, \"#bd3786\"], [0.5555555555555556, \"#d8576b\"], [0.6666666666666666, \"#ed7953\"], [0.7777777777777778, \"#fb9f3a\"], [0.8888888888888888, \"#fdca26\"], [1.0, \"#f0f921\"]], \"type\": \"histogram2d\"}], \"histogram2dcontour\": [{\"colorbar\": {\"outlinewidth\": 0, \"ticks\": \"\"}, \"colorscale\": [[0.0, \"#0d0887\"], [0.1111111111111111, \"#46039f\"], [0.2222222222222222, \"#7201a8\"], [0.3333333333333333, \"#9c179e\"], [0.4444444444444444, \"#bd3786\"], [0.5555555555555556, \"#d8576b\"], [0.6666666666666666, \"#ed7953\"], [0.7777777777777778, \"#fb9f3a\"], [0.8888888888888888, \"#fdca26\"], [1.0, \"#f0f921\"]], \"type\": \"histogram2dcontour\"}], \"mesh3d\": [{\"colorbar\": {\"outlinewidth\": 0, \"ticks\": \"\"}, \"type\": \"mesh3d\"}], \"parcoords\": [{\"line\": {\"colorbar\": {\"outlinewidth\": 0, \"ticks\": \"\"}}, \"type\": \"parcoords\"}], \"pie\": [{\"automargin\": true, \"type\": \"pie\"}], \"scatter\": [{\"marker\": {\"colorbar\": {\"outlinewidth\": 0, \"ticks\": \"\"}}, \"type\": \"scatter\"}], \"scatter3d\": [{\"line\": {\"colorbar\": {\"outlinewidth\": 0, \"ticks\": \"\"}}, \"marker\": {\"colorbar\": {\"outlinewidth\": 0, \"ticks\": \"\"}}, \"type\": \"scatter3d\"}], \"scattercarpet\": [{\"marker\": {\"colorbar\": {\"outlinewidth\": 0, \"ticks\": \"\"}}, \"type\": \"scattercarpet\"}], \"scattergeo\": [{\"marker\": {\"colorbar\": {\"outlinewidth\": 0, \"ticks\": \"\"}}, \"type\": \"scattergeo\"}], \"scattergl\": [{\"marker\": {\"colorbar\": {\"outlinewidth\": 0, \"ticks\": \"\"}}, \"type\": \"scattergl\"}], \"scattermapbox\": [{\"marker\": {\"colorbar\": {\"outlinewidth\": 0, \"ticks\": \"\"}}, \"type\": \"scattermapbox\"}], \"scatterpolar\": [{\"marker\": {\"colorbar\": {\"outlinewidth\": 0, \"ticks\": \"\"}}, \"type\": \"scatterpolar\"}], \"scatterpolargl\": [{\"marker\": {\"colorbar\": {\"outlinewidth\": 0, \"ticks\": \"\"}}, \"type\": \"scatterpolargl\"}], \"scatterternary\": [{\"marker\": {\"colorbar\": {\"outlinewidth\": 0, \"ticks\": \"\"}}, \"type\": \"scatterternary\"}], \"surface\": [{\"colorbar\": {\"outlinewidth\": 0, \"ticks\": \"\"}, \"colorscale\": [[0.0, \"#0d0887\"], [0.1111111111111111, \"#46039f\"], [0.2222222222222222, \"#7201a8\"], [0.3333333333333333, \"#9c179e\"], [0.4444444444444444, \"#bd3786\"], [0.5555555555555556, \"#d8576b\"], [0.6666666666666666, \"#ed7953\"], [0.7777777777777778, \"#fb9f3a\"], [0.8888888888888888, \"#fdca26\"], [1.0, \"#f0f921\"]], \"type\": \"surface\"}], \"table\": [{\"cells\": {\"fill\": {\"color\": \"#EBF0F8\"}, \"line\": {\"color\": \"white\"}}, \"header\": {\"fill\": {\"color\": \"#C8D4E3\"}, \"line\": {\"color\": \"white\"}}, \"type\": \"table\"}]}, \"layout\": {\"annotationdefaults\": {\"arrowcolor\": \"#2a3f5f\", \"arrowhead\": 0, \"arrowwidth\": 1}, \"autotypenumbers\": \"strict\", \"coloraxis\": {\"colorbar\": {\"outlinewidth\": 0, \"ticks\": \"\"}}, \"colorscale\": {\"diverging\": [[0, \"#8e0152\"], [0.1, \"#c51b7d\"], [0.2, \"#de77ae\"], [0.3, \"#f1b6da\"], [0.4, \"#fde0ef\"], [0.5, \"#f7f7f7\"], [0.6, \"#e6f5d0\"], [0.7, \"#b8e186\"], [0.8, \"#7fbc41\"], [0.9, \"#4d9221\"], [1, \"#276419\"]], \"sequential\": [[0.0, \"#0d0887\"], [0.1111111111111111, \"#46039f\"], [0.2222222222222222, \"#7201a8\"], [0.3333333333333333, \"#9c179e\"], [0.4444444444444444, \"#bd3786\"], [0.5555555555555556, \"#d8576b\"], [0.6666666666666666, \"#ed7953\"], [0.7777777777777778, \"#fb9f3a\"], [0.8888888888888888, \"#fdca26\"], [1.0, \"#f0f921\"]], \"sequentialminus\": [[0.0, \"#0d0887\"], [0.1111111111111111, \"#46039f\"], [0.2222222222222222, \"#7201a8\"], [0.3333333333333333, \"#9c179e\"], [0.4444444444444444, \"#bd3786\"], [0.5555555555555556, \"#d8576b\"], [0.6666666666666666, \"#ed7953\"], [0.7777777777777778, \"#fb9f3a\"], [0.8888888888888888, \"#fdca26\"], [1.0, \"#f0f921\"]]}, \"colorway\": [\"#636efa\", \"#EF553B\", \"#00cc96\", \"#ab63fa\", \"#FFA15A\", \"#19d3f3\", \"#FF6692\", \"#B6E880\", \"#FF97FF\", \"#FECB52\"], \"font\": {\"color\": \"#2a3f5f\"}, \"geo\": {\"bgcolor\": \"white\", \"lakecolor\": \"white\", \"landcolor\": \"#E5ECF6\", \"showlakes\": true, \"showland\": true, \"subunitcolor\": \"white\"}, \"hoverlabel\": {\"align\": \"left\"}, \"hovermode\": \"closest\", \"mapbox\": {\"style\": \"light\"}, \"paper_bgcolor\": \"white\", \"plot_bgcolor\": \"#E5ECF6\", \"polar\": {\"angularaxis\": {\"gridcolor\": \"white\", \"linecolor\": \"white\", \"ticks\": \"\"}, \"bgcolor\": \"#E5ECF6\", \"radialaxis\": {\"gridcolor\": \"white\", \"linecolor\": \"white\", \"ticks\": \"\"}}, \"scene\": {\"xaxis\": {\"backgroundcolor\": \"#E5ECF6\", \"gridcolor\": \"white\", \"gridwidth\": 2, \"linecolor\": \"white\", \"showbackground\": true, \"ticks\": \"\", \"zerolinecolor\": \"white\"}, \"yaxis\": {\"backgroundcolor\": \"#E5ECF6\", \"gridcolor\": \"white\", \"gridwidth\": 2, \"linecolor\": \"white\", \"showbackground\": true, \"ticks\": \"\", \"zerolinecolor\": \"white\"}, \"zaxis\": {\"backgroundcolor\": \"#E5ECF6\", \"gridcolor\": \"white\", \"gridwidth\": 2, \"linecolor\": \"white\", \"showbackground\": true, \"ticks\": \"\", \"zerolinecolor\": \"white\"}}, \"shapedefaults\": {\"line\": {\"color\": \"#2a3f5f\"}}, \"ternary\": {\"aaxis\": {\"gridcolor\": \"white\", \"linecolor\": \"white\", \"ticks\": \"\"}, \"baxis\": {\"gridcolor\": \"white\", \"linecolor\": \"white\", \"ticks\": \"\"}, \"bgcolor\": \"#E5ECF6\", \"caxis\": {\"gridcolor\": \"white\", \"linecolor\": \"white\", \"ticks\": \"\"}}, \"title\": {\"x\": 0.05}, \"xaxis\": {\"automargin\": true, \"gridcolor\": \"white\", \"linecolor\": \"white\", \"ticks\": \"\", \"title\": {\"standoff\": 15}, \"zerolinecolor\": \"white\", \"zerolinewidth\": 2}, \"yaxis\": {\"automargin\": true, \"gridcolor\": \"white\", \"linecolor\": \"white\", \"ticks\": \"\", \"title\": {\"standoff\": 15}, \"zerolinecolor\": \"white\", \"zerolinewidth\": 2}}}, \"xaxis\": {\"range\": [-0.1, 0.5], \"title\": {\"text\": \"Permutation importance\"}}, \"yaxis\": {\"title\": {\"text\": \"Intervention measure groups (L3)\"}}},                        {\"responsive\": true}                    ).then(function(){\n",
       "                            \n",
       "var gd = document.getElementById('8539f482-45d2-441e-afc7-ee818ab858bc');\n",
       "var x = new MutationObserver(function (mutations, observer) {{\n",
       "        var display = window.getComputedStyle(gd).display;\n",
       "        if (!display || display === 'none') {{\n",
       "            console.log([gd, 'removed!']);\n",
       "            Plotly.purge(gd);\n",
       "            observer.disconnect();\n",
       "        }}\n",
       "}});\n",
       "\n",
       "// Listen for the removal of the full notebook cells\n",
       "var notebookContainer = gd.closest('#notebook-container');\n",
       "if (notebookContainer) {{\n",
       "    x.observe(notebookContainer, {childList: true});\n",
       "}}\n",
       "\n",
       "// Listen for the clearing of the current output cell\n",
       "var outputEl = gd.closest('.output');\n",
       "if (outputEl) {{\n",
       "    x.observe(outputEl, {childList: true});\n",
       "}}\n",
       "\n",
       "                        })                };                });            </script>        </div>"
      ]
     },
     "metadata": {},
     "output_type": "display_data"
    }
   ],
   "source": [
    "plot = merged[['median_RF', 'Measure', 'high_RF', 'low_RF']]\n",
    "plot = plot.sort_values(by='median_RF', ascending=True)\n",
    "plot['colors'] = ['orange'] * sum(plot['low_RF']<=0) + ['green'] * sum(plot['low_RF']>0)\n",
    "\n",
    "fig = go.Figure(go.Bar(\n",
    "            x=plot['median_RF'],\n",
    "            y=plot['Measure'],\n",
    "            orientation='h',\n",
    "            marker_color=plot['colors'],\n",
    "            error_x=dict(\n",
    "                type='data',\n",
    "                symmetric=False,\n",
    "                array=abs(plot['median_RF']-plot['high_RF']), \n",
    "                arrayminus=plot['median_RF']- plot['low_RF'])))\n",
    "\n",
    "fig.update_layout(\n",
    "    xaxis_title=\"Permutation importance\", \n",
    "    yaxis_title=\"Intervention measure groups (L3)\", \n",
    "    xaxis_range=[-0.1,0.5])\n",
    "\n",
    "fig.show()"
   ]
  },
  {
   "cell_type": "code",
   "execution_count": null,
   "metadata": {},
   "outputs": [],
   "source": []
  }
 ],
 "metadata": {
  "kernelspec": {
   "display_name": "Python 3",
   "language": "python",
   "name": "python3"
  },
  "language_info": {
   "codemirror_mode": {
    "name": "ipython",
    "version": 3
   },
   "file_extension": ".py",
   "mimetype": "text/x-python",
   "name": "python",
   "nbconvert_exporter": "python",
   "pygments_lexer": "ipython3",
   "version": "3.7.4"
  }
 },
 "nbformat": 4,
 "nbformat_minor": 4
}
